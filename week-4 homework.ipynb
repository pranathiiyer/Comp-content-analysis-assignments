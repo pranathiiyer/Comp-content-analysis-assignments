{
 "cells": [
  {
   "cell_type": "markdown",
   "id": "a20af504",
   "metadata": {},
   "source": [
    "## <font color=\"red\">*Pitch Your Project*</font>\n",
    "\n",
    "<font color=\"red\">In the three cells immediately following, describe **WHAT** you are planning to analyze for your final project (i.e., texts, contexts and the social game, world and actors you intend to learn about through your analysis) (<200 words), **WHY** you are going to do it (i.e., why would theory and/or the average person benefit from knowing the results of your investigation) (<200 words), and **HOW** you plan to investigate it (i.e., what are the approaches and operations you plan to perform, in sequence, to yield this insight) (<400 words).\n",
    "\n",
    "# ***What?*** \n",
    "<200 words\n",
    "\n",
    "## ***Why?***\n",
    "<200 words\n",
    "\n",
    "## ***How?***\n",
    "<400 words\n",
    "\n",
    "## <font color=\"red\">*Pitch Your Sample*</font>\n",
    "\n",
    "<font color=\"red\">In the cell immediately following, describe the rationale behind your proposed sample design for your final project. What is the social game, social work, or social actors you about whom you are seeking to make inferences? What are its virtues with respect to your research questions? What are its limitations? What are alternatives? What would be a reasonable path to \"scale up\" your sample for further analysis (i.e., high-profile publication) beyond this class? (<300 words).\n",
    "\n",
    "## ***Which (words)?***\n",
    "<300 words"
   ]
  },
  {
   "cell_type": "markdown",
   "id": "9737cbee",
   "metadata": {},
   "source": [
    "# ***What?*** \n",
    "<200 words\n",
    "\n",
    "I plan on analyzing matrimonial advertisements published in Indian newspapers (specifically, one newspaper) from the years 2002 to 2014. I wish to look at how the content has changed or not changed in these ads. This includes nuances of aspects such as caste, physical attributes, education level, and occupation that people seek in their prospective partners. Moreover, it could showcase how this might vary for people seeking brides versus those seeking grooms. Additionally, some of these ads also place emphasis on countries they might want to move to after getting married, and this might give insights about the nature of migration from India to thesse countries (although ambitious). \n",
    "\n",
    "In India, the idea of seeking partners through such ads is extremeluy prevalent and continues till date. Furthermore, these ads are, on several occassions, written by parents/guardians/relatives of people actually seeking prospective partners. From anecdotal evidence, this does not have to changed much over the years, and instead has also spred to e-platforms other than print media. If a computational analysis of this kind is supplemented with qualitative analysis, this research could provide extremely meaningful insights about the social game of seeking alliance in the Indian context and some of the cultural layers that emerge in this game over the years."
   ]
  },
  {
   "cell_type": "markdown",
   "id": "c63e9591",
   "metadata": {},
   "source": [
    "## ***Why?***\n",
    "<200 words"
   ]
  },
  {
   "cell_type": "markdown",
   "id": "9524eb5c",
   "metadata": {},
   "source": [
    "The concept of getting married through matrimonial ads is ubiquitous in India. The practice has now expanded to several e-platforms, and hence, there is some extent of market research that is done around the topic. However, there is very limited research around the nature of the content of these ads, and more so the ecosystem and social game of this practice even though it is so integral to the culture. There are anectodal intuitions and beliefs, however there is no research that looks at newspaper ads which continue to be one of the largest ways to reach masses in India. Deciphering these ads --on a commercial level-- could possibly help organizations understand the culture and belief systems of people of certain states (depending on where the newspaper is distributed), and perhaps help them understand more about their services in an anstract sense. However, the larger gain from such research would be to truly undertstand the mindset of the people of a certain region in the country, and how culture and its nuances have evolved over the years. This could also be compared with other trends and events in the regions under consideration to further bolster the idea of social and cultural change. "
   ]
  },
  {
   "cell_type": "markdown",
   "id": "837fa869",
   "metadata": {},
   "source": [
    "\n",
    "## ***How?***\n",
    "<400 words"
   ]
  },
  {
   "cell_type": "markdown",
   "id": "f3e1d588",
   "metadata": {},
   "source": [
    "1. I first plan on scraping advertisements archived on the website of \"The Tribune\", a newspaper in the northern oart of India. These ads are digitally archived for all years frim 2002- 2014 and I plan on writing a script to scrape them. I do this for ads seeking brides, and ads seeking grooms.\n",
    "2. Once scraped, I plan on understanding the yearwise distribution of these ads, and if the differences in number of ads across years might be a problem. (if there is at all a visible increase or decrease in size)\n",
    "3. I plan on preprocessing this data, which includes removing junk ads, cleaning the text for any unnecessary spaces, punctuation, special characters etc. and finally storing the clean yearwise data in csv files for both categories (bride and groom).\n",
    "4. Once I have my data ready for both categories, I first conduct preliminary analysis. This would involve assessing word counts, understanding how this has changed over the years, and look at parts of speech (especially adjectives), and how this evolved with time. I specifically look for words around caste, appearance, education level, and occupation (This step majorly draws upon the methods of week 2 on computational linguistics).\n",
    "5. After gauging a rough sense of the characteristics of this data, I will choose between some of the rigorous methods learnt in class as per the suitability of the corpus.\n",
    "6. Based on a preliminary analysis, it seems like word embeddings, and projecting the data of these ads on dimensions of caste, gender can provide meaningful insights. Words related to appearance and occupation can also be projected on these dimensions if it makes sense. \n",
    "7. Finally, I look at statististically significant results (this holds for every step of analysis thus far as well) and report my results."
   ]
  },
  {
   "cell_type": "markdown",
   "id": "d7d068f2",
   "metadata": {},
   "source": [
    "## ***Which (words)?***\n",
    "<300 words"
   ]
  },
  {
   "cell_type": "markdown",
   "id": "b7359d0d",
   "metadata": {},
   "source": [
    "I specifically choose newspaper ads for two reasons. Firstly, it is one of the major ways of reaching the masses in India, where e-platforms are not accessible for all strata of society. Secondly, it is only possible to scrape such ads from websites if one creates a profile. Moreover, the profiles one would see would depend on the data entered by them (religion, caste, gender etc), and hence, it might be extremely difficult to create a representative sample. These websites also don't provide archived ads, which makes it difficult to analyzye any kind of cultutal change over time. \n",
    "\n",
    "The Tribune is one of the largest distrubuted newspapers in northeren India, and hence, has a fairly large consumer base. However, for a country as diverse as India, a newspaper that is prevalent in one part of the country might not be representative of the trends in the country as a whole. This research could significantly be scaled up if ads from more widely distributed newspapers (eg- Time of India which is the most widely distributed paper in the world) are collected. However, gaining access to ads from these papers is not easy since they do not provide digital versions of these freely online. The research can also be scaled up if certain observed trends from this paper are validated by creating similar profiles on websites, and to see if results hold in the digital realm as well."
   ]
  },
  {
   "cell_type": "markdown",
   "id": "ae1e84f6",
   "metadata": {},
   "source": [
    "## <font color=\"red\">*Exercise 1*</font>\n",
    "\n",
    "<font color=\"red\">Construct cells immediately below this that embed documents related to your final project using at least two different specification of `word2vec` and/or `fasttext`, and visualize them each with two separate visualization layout specifications (e.g., TSNE, PCA). Then interrogate critical word vectors within your corpus in terms of the most similar words, analogies, and other additions and subtractions that reveal the structure of similarity and difference within your semantic space. What does this pattern reveal about the semantic organization of words in your corpora? Which estimation and visualization specification generate the most insight and appear the most robustly supported and why? \n",
    "\n",
    "<font color=\"red\">***Stretch***: Explore different vector calculations beyond addition and subtraction, such as multiplication, division or some other function. What does this exploration reveal about the semantic structure of your corpus?"
   ]
  },
  {
   "cell_type": "markdown",
   "id": "977ab80f",
   "metadata": {},
   "source": [
    "<font color=\"green\"> A preliminary analysis provides some interesting insights. The word girl tends to most similar to the adjective educated. This could probably mean than most boys are seeking girls who are educated to a certain level. Moreover, \"girl\" is to \"dowry\" what \"boy\" is to \"marriage\". In India, soliciting dowry from the girl's side of the family when she is getting married is a common tradition that still exists in some parts. While this speaks of 2002 data, it might be interesting to see how this has changed with time. This relationsship emphasizes the innate and cemeted nature of this tradition that it is almost synonymous with a boy getting married, which is extremely interesting. Additionally, the TSNE seems to provide a better visualization compared to PCA because of its definitive and comprehensible structure and ability to highlight key words such as educated, beautiful, girl etc. </font>"
   ]
  },
  {
   "cell_type": "code",
   "execution_count": 189,
   "id": "d86edc69",
   "metadata": {},
   "outputs": [],
   "source": [
    "#All these packages need to be installed from pip\n",
    "import gensim#For word2vec, etc\n",
    "import requests #For downloading our datasets\n",
    "import lucem_illud #pip install -U git+git://github.com/UChicago-Computational-Content-Analysis/lucem_illud.git\n",
    "\n",
    "import numpy as np #For arrays\n",
    "import pandas as pd #Gives us DataFrames\n",
    "import matplotlib.pyplot as plt #For graphics\n",
    "import seaborn #Makes the graphics look nicer\n",
    "import sklearn.metrics.pairwise #For cosine similarity\n",
    "import sklearn.manifold #For T-SNE\n",
    "import sklearn.decomposition #For PCA\n",
    "\n",
    "#This 'magic' command makes the plots work better\n",
    "#in the notebook, don't use it outside of a notebook.\n",
    "#Also you can ignore the warning\n",
    "%matplotlib inline\n",
    "\n",
    "import os #For looking through files\n",
    "import os.path #For managing file paths"
   ]
  },
  {
   "cell_type": "code",
   "execution_count": 16,
   "id": "526439d8",
   "metadata": {},
   "outputs": [],
   "source": [
    "brides_wanted_2014 = pd.read_csv(\"brides-wanted_2014.csv\")\n",
    "brides_wanted_2014['text'] = pd.read_csv(\"brides-wanted_2014.csv\")"
   ]
  },
  {
   "cell_type": "code",
   "execution_count": 190,
   "id": "968d878d",
   "metadata": {},
   "outputs": [],
   "source": [
    "brides_wanted_2002 = pd.read_csv(\"grooms-wanted_2002.csv\")\n",
    "brides_wanted_2002['text'] = pd.read_csv(\"grooms-wanted_2002.csv\")"
   ]
  },
  {
   "cell_type": "code",
   "execution_count": 194,
   "id": "6001a8fe",
   "metadata": {},
   "outputs": [],
   "source": [
    "brides_wanted_2002['tokenized_sents'] = brides_wanted_2002['text'].apply(lambda x: [lucem_illud.word_tokenize(s) for s in lucem_illud.sent_tokenize(str(x))])"
   ]
  },
  {
   "cell_type": "code",
   "execution_count": 195,
   "id": "4ba191f5",
   "metadata": {},
   "outputs": [],
   "source": [
    "brides_wanted_2002['normalized_sents'] = brides_wanted_2002['tokenized_sents'].apply(lambda x: [lucem_illud.normalizeTokens(s) for s in x])"
   ]
  },
  {
   "cell_type": "code",
   "execution_count": 196,
   "id": "a64a386e",
   "metadata": {},
   "outputs": [
    {
     "data": {
      "text/html": [
       "<div>\n",
       "<style scoped>\n",
       "    .dataframe tbody tr th:only-of-type {\n",
       "        vertical-align: middle;\n",
       "    }\n",
       "\n",
       "    .dataframe tbody tr th {\n",
       "        vertical-align: top;\n",
       "    }\n",
       "\n",
       "    .dataframe thead th {\n",
       "        text-align: right;\n",
       "    }\n",
       "</style>\n",
       "<table border=\"1\" class=\"dataframe\">\n",
       "  <thead>\n",
       "    <tr style=\"text-align: right;\">\n",
       "      <th></th>\n",
       "      <th>NOTE: Please do not send any images/photographs with your reply They cannot be forwarded due to technical reasons</th>\n",
       "      <th>text</th>\n",
       "      <th>tokenized_sents</th>\n",
       "      <th>normalized_sents</th>\n",
       "    </tr>\n",
       "  </thead>\n",
       "  <tbody>\n",
       "    <tr>\n",
       "      <th>0</th>\n",
       "      <td>A London based Hindu Punjabi software engineer...</td>\n",
       "      <td>A London based Hindu Punjabi software engineer...</td>\n",
       "      <td>[[A, London, based, Hindu, Punjabi, software, ...</td>\n",
       "      <td>[[london, based, hindu, punjabi, software, eng...</td>\n",
       "    </tr>\n",
       "    <tr>\n",
       "      <th>10</th>\n",
       "      <td>Wanted suitable NRI match for Hindu</td>\n",
       "      <td>Wanted suitable NRI match for Hindu</td>\n",
       "      <td>[[Wanted, suitable, NRI, match, for, Hindu]]</td>\n",
       "      <td>[[wanted, suitable, nri, match, hindu]]</td>\n",
       "    </tr>\n",
       "    <tr>\n",
       "      <th>20</th>\n",
       "      <td>Suitable Canadian American Australian</td>\n",
       "      <td>Suitable Canadian American Australian</td>\n",
       "      <td>[[Suitable, Canadian, American, Australian]]</td>\n",
       "      <td>[[suitable, canadian, american, australian]]</td>\n",
       "    </tr>\n",
       "    <tr>\n",
       "      <th>30</th>\n",
       "      <td>Match for turbaned Ramgarhia Sikh boy</td>\n",
       "      <td>Match for turbaned Ramgarhia Sikh boy</td>\n",
       "      <td>[[Match, for, turbaned, Ramgarhia, Sikh, boy]]</td>\n",
       "      <td>[[match, turbaned, ramgarhia, sikh, boy]]</td>\n",
       "    </tr>\n",
       "    <tr>\n",
       "      <th>40</th>\n",
       "      <td>Ramgarhia Gursikh family settled UK  seeks all...</td>\n",
       "      <td>Ramgarhia Gursikh family settled UK  seeks all...</td>\n",
       "      <td>[[Ramgarhia, Gursikh, family, settled, UK, see...</td>\n",
       "      <td>[[ramgarhia, gursikh, family, settled, uk, see...</td>\n",
       "    </tr>\n",
       "    <tr>\n",
       "      <th>50</th>\n",
       "      <td>Educated beautiful homely girl for Punjabi Hi...</td>\n",
       "      <td>Educated beautiful homely girl for Punjabi Hi...</td>\n",
       "      <td>[[Educated, beautiful, homely, girl, for, Punj...</td>\n",
       "      <td>[[educated, beautiful, homely, girl, punjabi, ...</td>\n",
       "    </tr>\n",
       "    <tr>\n",
       "      <th>60</th>\n",
       "      <td>Saini Sikh American citizen 27 yrs  511 BE (...</td>\n",
       "      <td>Saini Sikh American citizen 27 yrs  511 BE (...</td>\n",
       "      <td>[[Saini, Sikh, American, citizen, 27, yrs, 51...</td>\n",
       "      <td>[[saini, sikh, american, citizen, yrs, 511, ...</td>\n",
       "    </tr>\n",
       "    <tr>\n",
       "      <th>70</th>\n",
       "      <td>Only American/Canadian match for Ramgarhia Si...</td>\n",
       "      <td>Only American/Canadian match for Ramgarhia Si...</td>\n",
       "      <td>[[Only, American, Canadian, match, for, Ramgar...</td>\n",
       "      <td>[[american, canadian, match, ramgarhia, sikh, ...</td>\n",
       "    </tr>\n",
       "    <tr>\n",
       "      <th>80</th>\n",
       "      <td>Educated nice Jat Sikh family well settled in...</td>\n",
       "      <td>Educated nice Jat Sikh family well settled in...</td>\n",
       "      <td>[[Educated, nice, Jat, Sikh, family, well, set...</td>\n",
       "      <td>[[educated, nice, jat, sikh, family, settled, ...</td>\n",
       "    </tr>\n",
       "    <tr>\n",
       "      <th>90</th>\n",
       "      <td>Beautiful educated girl settled abroad for mo...</td>\n",
       "      <td>Beautiful educated girl settled abroad for mo...</td>\n",
       "      <td>[[Beautiful, educated, girl, settled, abroad, ...</td>\n",
       "      <td>[[beautiful, educated, girl, settled, abroad, ...</td>\n",
       "    </tr>\n",
       "  </tbody>\n",
       "</table>\n",
       "</div>"
      ],
      "text/plain": [
       "   NOTE: Please do not send any images/photographs with your reply They cannot be forwarded due to technical reasons  \\\n",
       "0   A London based Hindu Punjabi software engineer...                                                                  \n",
       "10                Wanted suitable NRI match for Hindu                                                                  \n",
       "20              Suitable Canadian American Australian                                                                  \n",
       "30              Match for turbaned Ramgarhia Sikh boy                                                                  \n",
       "40  Ramgarhia Gursikh family settled UK  seeks all...                                                                  \n",
       "50   Educated beautiful homely girl for Punjabi Hi...                                                                  \n",
       "60  Saini Sikh American citizen 27 yrs  511 BE (...                                                                  \n",
       "70   Only American/Canadian match for Ramgarhia Si...                                                                  \n",
       "80   Educated nice Jat Sikh family well settled in...                                                                  \n",
       "90   Beautiful educated girl settled abroad for mo...                                                                  \n",
       "\n",
       "                                                 text  \\\n",
       "0   A London based Hindu Punjabi software engineer...   \n",
       "10                Wanted suitable NRI match for Hindu   \n",
       "20              Suitable Canadian American Australian   \n",
       "30              Match for turbaned Ramgarhia Sikh boy   \n",
       "40  Ramgarhia Gursikh family settled UK  seeks all...   \n",
       "50   Educated beautiful homely girl for Punjabi Hi...   \n",
       "60  Saini Sikh American citizen 27 yrs  511 BE (...   \n",
       "70   Only American/Canadian match for Ramgarhia Si...   \n",
       "80   Educated nice Jat Sikh family well settled in...   \n",
       "90   Beautiful educated girl settled abroad for mo...   \n",
       "\n",
       "                                      tokenized_sents  \\\n",
       "0   [[A, London, based, Hindu, Punjabi, software, ...   \n",
       "10       [[Wanted, suitable, NRI, match, for, Hindu]]   \n",
       "20       [[Suitable, Canadian, American, Australian]]   \n",
       "30     [[Match, for, turbaned, Ramgarhia, Sikh, boy]]   \n",
       "40  [[Ramgarhia, Gursikh, family, settled, UK, see...   \n",
       "50  [[Educated, beautiful, homely, girl, for, Punj...   \n",
       "60  [[Saini, Sikh, American, citizen, 27, yrs, 51...   \n",
       "70  [[Only, American, Canadian, match, for, Ramgar...   \n",
       "80  [[Educated, nice, Jat, Sikh, family, well, set...   \n",
       "90  [[Beautiful, educated, girl, settled, abroad, ...   \n",
       "\n",
       "                                     normalized_sents  \n",
       "0   [[london, based, hindu, punjabi, software, eng...  \n",
       "10            [[wanted, suitable, nri, match, hindu]]  \n",
       "20       [[suitable, canadian, american, australian]]  \n",
       "30          [[match, turbaned, ramgarhia, sikh, boy]]  \n",
       "40  [[ramgarhia, gursikh, family, settled, uk, see...  \n",
       "50  [[educated, beautiful, homely, girl, punjabi, ...  \n",
       "60  [[saini, sikh, american, citizen, yrs, 511, ...  \n",
       "70  [[american, canadian, match, ramgarhia, sikh, ...  \n",
       "80  [[educated, nice, jat, sikh, family, settled, ...  \n",
       "90  [[beautiful, educated, girl, settled, abroad, ...  "
      ]
     },
     "execution_count": 196,
     "metadata": {},
     "output_type": "execute_result"
    }
   ],
   "source": [
    "\n",
    "brides_wanted_2002[:100:10]"
   ]
  },
  {
   "cell_type": "code",
   "execution_count": 197,
   "id": "82e9f5cd",
   "metadata": {},
   "outputs": [
    {
     "data": {
      "text/plain": [
       "array([-0.19686995,  0.33428308,  0.02283976,  0.0554179 ,  0.06430735,\n",
       "       -0.4000573 ,  0.13337998,  0.75316316, -0.33690444, -0.33712614],\n",
       "      dtype=float32)"
      ]
     },
     "execution_count": 197,
     "metadata": {},
     "output_type": "execute_result"
    }
   ],
   "source": [
    "brides_wanted_2002W2V = gensim.models.word2vec.Word2Vec(brides_wanted_2002['normalized_sents'].sum(), sg=0)\n",
    "brides_wanted_2002W2V.wv['girl'][:10]"
   ]
  },
  {
   "cell_type": "code",
   "execution_count": 198,
   "id": "90570b62",
   "metadata": {},
   "outputs": [
    {
     "data": {
      "text/plain": [
       "array([[-2.2102740e-01,  3.1302565e-01,  3.2723326e-02, ...,\n",
       "        -3.8993874e-01,  8.3678432e-02, -9.5227942e-02],\n",
       "       [-2.3036090e-01,  3.3626971e-01,  4.6445727e-02, ...,\n",
       "        -4.2766216e-01,  9.4309561e-02, -1.0781989e-01],\n",
       "       [-2.1402927e-01,  3.0553421e-01,  1.7012598e-02, ...,\n",
       "        -3.6914304e-01,  9.3014494e-02, -1.2305829e-01],\n",
       "       ...,\n",
       "       [-1.7064368e-02,  4.5482237e-02, -1.3085162e-03, ...,\n",
       "        -5.2799843e-02,  1.2736537e-02, -3.4011663e-03],\n",
       "       [-2.4990605e-02,  3.8222663e-02, -2.5736874e-05, ...,\n",
       "        -5.6694563e-02,  1.4781959e-02, -7.1865655e-03],\n",
       "       [-1.1066758e-02,  3.6400810e-02,  3.3751079e-03, ...,\n",
       "        -4.5495611e-02,  4.4010896e-03, -1.6011059e-02]], dtype=float32)"
      ]
     },
     "execution_count": 198,
     "metadata": {},
     "output_type": "execute_result"
    }
   ],
   "source": [
    "brides_wanted_2002W2V.wv.vectors"
   ]
  },
  {
   "cell_type": "code",
   "execution_count": 199,
   "id": "46a83a5d",
   "metadata": {},
   "outputs": [
    {
     "data": {
      "text/plain": [
       "'usa'"
      ]
     },
     "execution_count": 199,
     "metadata": {},
     "output_type": "execute_result"
    }
   ],
   "source": [
    "brides_wanted_2002W2V.wv.index_to_key[10]"
   ]
  },
  {
   "cell_type": "code",
   "execution_count": 200,
   "id": "71abb400",
   "metadata": {},
   "outputs": [
    {
     "data": {
      "text/plain": [
       "[('educated', 0.9991177916526794),\n",
       " ('fair', 0.9989839196205139),\n",
       " ('slim', 0.9989804029464722),\n",
       " ('professional', 0.9988982677459717),\n",
       " ('homely', 0.9988512396812439),\n",
       " ('convent', 0.9987930059432983),\n",
       " ('preferably', 0.9987599849700928),\n",
       " ('wanted', 0.998727023601532),\n",
       " ('extremely', 0.998627781867981),\n",
       " ('medico', 0.9986196756362915)]"
      ]
     },
     "execution_count": 200,
     "metadata": {},
     "output_type": "execute_result"
    }
   ],
   "source": [
    "brides_wanted_2002W2V.wv.most_similar('girl')"
   ]
  },
  {
   "cell_type": "code",
   "execution_count": 201,
   "id": "927eca41",
   "metadata": {},
   "outputs": [
    {
     "data": {
      "text/plain": [
       "[('girl', 0.9991180896759033),\n",
       " ('fair', 0.9991050362586975),\n",
       " ('slim', 0.9990788102149963),\n",
       " ('professional', 0.9990348815917969),\n",
       " ('preferably', 0.9988704323768616),\n",
       " ('wanted', 0.9988254308700562),\n",
       " ('graduate', 0.9987837076187134),\n",
       " ('gursikh', 0.9987401962280273),\n",
       " ('smart', 0.9986942410469055),\n",
       " ('punjabi', 0.9986932277679443)]"
      ]
     },
     "execution_count": 201,
     "metadata": {},
     "output_type": "execute_result"
    }
   ],
   "source": [
    "brides_wanted_2002W2V.wv.most_similar('educated')"
   ]
  },
  {
   "cell_type": "code",
   "execution_count": 202,
   "id": "a22d5528",
   "metadata": {},
   "outputs": [
    {
     "data": {
      "text/plain": [
       "'dowry'"
      ]
     },
     "execution_count": 202,
     "metadata": {},
     "output_type": "execute_result"
    }
   ],
   "source": [
    "brides_wanted_2002W2V.wv.doesnt_match(['girl', 'dowry', 'bride', 'fair', 'sikh'])"
   ]
  },
  {
   "cell_type": "code",
   "execution_count": 203,
   "id": "74ed0782",
   "metadata": {},
   "outputs": [
    {
     "data": {
      "text/plain": [
       "[('usa', 0.9956675171852112),\n",
       " ('engg', 0.9955852031707764),\n",
       " ('permanent', 0.9955803155899048),\n",
       " ('settled', 0.9954814910888672),\n",
       " ('london', 0.9954598546028137),\n",
       " ('manager', 0.9954102039337158),\n",
       " ('uk', 0.9953984022140503),\n",
       " ('delhi', 0.9953264594078064),\n",
       " ('sister', 0.9952825903892517),\n",
       " ('england', 0.9952560067176819)]"
      ]
     },
     "execution_count": 203,
     "metadata": {},
     "output_type": "execute_result"
    }
   ],
   "source": [
    "brides_wanted_2002W2V.wv.most_similar(positive = ['sikh','caste'],negative=['girl'])"
   ]
  },
  {
   "cell_type": "code",
   "execution_count": 204,
   "id": "4b19ac7c",
   "metadata": {},
   "outputs": [
    {
     "data": {
      "text/plain": [
       "[('email', 0.9964287877082825),\n",
       " ('caste', 0.9963570833206177),\n",
       " ('biodata', 0.9962679147720337),\n",
       " ('india', 0.9961921572685242),\n",
       " ('bar', 0.9961551427841187),\n",
       " ('kundli', 0.9960885643959045),\n",
       " ('visiting', 0.9960355162620544),\n",
       " ('contact', 0.995881974697113),\n",
       " ('early', 0.9958608150482178),\n",
       " ('photo', 0.9957773089408875)]"
      ]
     },
     "execution_count": 204,
     "metadata": {},
     "output_type": "execute_result"
    }
   ],
   "source": [
    "brides_wanted_2002W2V.wv.most_similar(positive = ['family','dowry'],negative=['girl'])"
   ]
  },
  {
   "cell_type": "code",
   "execution_count": 205,
   "id": "0cce6acf",
   "metadata": {},
   "outputs": [
    {
     "data": {
      "text/plain": [
       "[('marriage', 0.995737612247467),\n",
       " ('email', 0.9957368969917297),\n",
       " ('contact', 0.9956486225128174),\n",
       " ('consideration', 0.995621383190155),\n",
       " ('kundli', 0.9955697655677795),\n",
       " ('india', 0.9955599308013916),\n",
       " ('bar', 0.9955524802207947),\n",
       " ('main', 0.9953961372375488),\n",
       " ('respond', 0.9953369498252869),\n",
       " ('caste', 0.9952760934829712)]"
      ]
     },
     "execution_count": 205,
     "metadata": {},
     "output_type": "execute_result"
    }
   ],
   "source": [
    "brides_wanted_2002W2V.wv.most_similar(positive = ['girl','dowry'],negative=['boy'])"
   ]
  },
  {
   "cell_type": "code",
   "execution_count": 206,
   "id": "5006e95f",
   "metadata": {},
   "outputs": [],
   "source": [
    "brides_wanted_2002W2V.save(\"brides_wanted-2002WORD2Vec\")"
   ]
  },
  {
   "cell_type": "code",
   "execution_count": 207,
   "id": "0d73e332",
   "metadata": {},
   "outputs": [],
   "source": [
    "numWords = 50\n",
    "targetWords = brides_wanted_2002W2V.wv.index_to_key[:numWords]"
   ]
  },
  {
   "cell_type": "code",
   "execution_count": 208,
   "id": "93a14e4b",
   "metadata": {},
   "outputs": [
    {
     "data": {
      "text/plain": [
       "array([[-0.2210274 ,  0.31302565,  0.03272333, ..., -0.38993874,\n",
       "         0.08367843, -0.09522794],\n",
       "       [-0.2303609 ,  0.3362697 ,  0.04644573, ..., -0.42766216,\n",
       "         0.09430956, -0.10781989],\n",
       "       [-0.21402927,  0.3055342 ,  0.0170126 , ..., -0.36914304,\n",
       "         0.09301449, -0.12305829],\n",
       "       ...,\n",
       "       [-0.14370976,  0.22614002,  0.0315646 , ..., -0.26646015,\n",
       "         0.08926287, -0.08411793],\n",
       "       [-0.15893959,  0.37536088,  0.09241822, ..., -0.53088444,\n",
       "         0.18452977, -0.12836993],\n",
       "       [-0.14919026,  0.25628787,  0.03331103, ..., -0.3254614 ,\n",
       "         0.07523176, -0.08997422]], dtype=float32)"
      ]
     },
     "execution_count": 208,
     "metadata": {},
     "output_type": "execute_result"
    }
   ],
   "source": [
    "wordsSubMatrix = []\n",
    "for word in targetWords:\n",
    "    wordsSubMatrix.append(brides_wanted_2002W2V.wv[word])\n",
    "wordsSubMatrix = np.array(wordsSubMatrix)\n",
    "wordsSubMatrix"
   ]
  },
  {
   "cell_type": "code",
   "execution_count": 209,
   "id": "fcbda310",
   "metadata": {},
   "outputs": [],
   "source": [
    "pcaWords = sklearn.decomposition.PCA(n_components = 50).fit(wordsSubMatrix)\n",
    "reducedPCA_data = pcaWords.transform(wordsSubMatrix)\n",
    "#T-SNE is theoretically better, but you should experiment\n",
    "tsneWords = sklearn.manifold.TSNE(n_components = 2).fit_transform(reducedPCA_data)"
   ]
  },
  {
   "cell_type": "code",
   "execution_count": 210,
   "id": "f201c877",
   "metadata": {},
   "outputs": [
    {
     "data": {
      "image/png": "[encoded data removed]",
      "text/plain": [
       "<Figure size 720x432 with 1 Axes>"
      ]
     },
     "metadata": {},
     "output_type": "display_data"
    }
   ],
   "source": [
    "fig = plt.figure(figsize = (10,6))\n",
    "ax = fig.add_subplot(111)\n",
    "ax.set_frame_on(False)\n",
    "plt.scatter(tsneWords[:, 0], tsneWords[:, 1], alpha = 0)#Making the points invisible \n",
    "for i, word in enumerate(targetWords):\n",
    "    ax.annotate(word, (tsneWords[:, 0][i],tsneWords[:, 1][i]), size =  20 * (numWords - i) / numWords)\n",
    "plt.xticks(())\n",
    "plt.yticks(())\n",
    "plt.show()"
   ]
  },
  {
   "cell_type": "code",
   "execution_count": 211,
   "id": "0425e06f",
   "metadata": {},
   "outputs": [
    {
     "data": {
      "image/png": "[encoded data removed]",
      "text/plain": [
       "<Figure size 720x432 with 1 Axes>"
      ]
     },
     "metadata": {},
     "output_type": "display_data"
    }
   ],
   "source": [
    "fig = plt.figure(figsize = (10,6))\n",
    "ax = fig.add_subplot(111)\n",
    "ax.set_frame_on(False)\n",
    "plt.scatter(tsneWords[:, 0], reducedPCA_data[:, 1], alpha = 0)#Making the points invisible \n",
    "for i, word in enumerate(targetWords):\n",
    "    ax.annotate(word, (reducedPCA_data[:, 0][i],reducedPCA_data[:, 1][i]), size =  20 * (numWords - i) / numWords)\n",
    "plt.xticks(())\n",
    "plt.yticks(())\n",
    "plt.show()"
   ]
  },
  {
   "cell_type": "markdown",
   "id": "e301e2b3",
   "metadata": {},
   "source": [
    "## <font color=\"red\">*Exercise 2*</font>\n",
    "\n",
    "<font color=\"red\">Construct cells immediately below this that embed documents related to your final project using `doc2vec`, and explore the relationship between different documents and the word vectors you analyzed in the last exercise. Consider the most similar words to critical documents, analogies (doc _x_ + word _y_), and other additions and subtractions that reveal the structure of similarity and difference within your semantic space. What does this pattern reveal about the documentary organization of your semantic space?"
   ]
  },
  {
   "cell_type": "markdown",
   "id": "c4a3bc1b",
   "metadata": {},
   "source": [
    "<font color=\"green\"> For this exercise, I consider each ad to be a document. We see that girl + alliance - boy gives educated and family, which makes sense. And the words related to bride are also in tandem with the results in exercise 1. The cosine similarity and heatmaps for the data further reiterate these resulta. </font>"
   ]
  },
  {
   "cell_type": "code",
   "execution_count": 77,
   "id": "4beac2a5",
   "metadata": {},
   "outputs": [],
   "source": [
    "from gensim.models.doc2vec import TaggedDocument"
   ]
  },
  {
   "cell_type": "code",
   "execution_count": 117,
   "id": "c5e85586",
   "metadata": {},
   "outputs": [],
   "source": [
    "keywords = ['girl','boy','educated','sikh','alliance','caste','bride','family','income']"
   ]
  },
  {
   "cell_type": "code",
   "execution_count": 214,
   "id": "602b8a82",
   "metadata": {},
   "outputs": [],
   "source": [
    "brides_wanted_2002['tokenized_words'] = brides_wanted_2002['text'].apply(lambda x: lucem_illud.word_tokenize(str(x)))\n",
    "brides_wanted_2002['normalized_words'] = brides_wanted_2002['tokenized_words'].apply(lambda x: lucem_illud.normalizeTokens(x, lemma=False))"
   ]
  },
  {
   "cell_type": "code",
   "execution_count": 215,
   "id": "3f54120e",
   "metadata": {},
   "outputs": [],
   "source": [
    "taggedDocs = []\n",
    "for index, row in brides_wanted_2002.iterrows():\n",
    "    #Just doing a simple keyword assignment\n",
    "    docKeywords = [s for s in keywords if s in row['normalized_words']]\n",
    "    \n",
    "    taggedDocs.append(gensim.models.doc2vec.TaggedDocument(words = row['normalized_words'], tags = docKeywords))\n",
    "brides_wanted_2002['TaggedAds'] = taggedDocs"
   ]
  },
  {
   "cell_type": "code",
   "execution_count": 216,
   "id": "a621189c",
   "metadata": {},
   "outputs": [],
   "source": [
    "brides_wanted_2002D2V = gensim.models.doc2vec.Doc2Vec(brides_wanted_2002['TaggedAds'], vector_size = 100)"
   ]
  },
  {
   "cell_type": "code",
   "execution_count": 217,
   "id": "ce5639c4",
   "metadata": {},
   "outputs": [
    {
     "data": {
      "text/plain": [
       "array([-0.70962065, -0.88674337, -0.5363044 , -0.285948  , -0.43204287,\n",
       "        0.06972986, -0.08230519,  0.251484  , -0.45456898,  0.6639142 ,\n",
       "       -0.26179564,  0.10272981, -0.02486134, -0.04898191, -0.2009615 ,\n",
       "        0.4211891 , -0.50004023,  0.18508898, -0.05515065, -0.43510115,\n",
       "        0.3275037 , -0.45281035,  0.40520594, -0.3622086 , -0.37625894,\n",
       "       -0.24859108, -0.24965584,  0.04539654, -0.49366656,  0.09728755,\n",
       "        0.694826  ,  0.5145955 ,  0.01154629,  0.10200823,  0.1447745 ,\n",
       "        0.37623966, -0.11646791, -0.3442401 ,  0.03305182, -0.3138422 ,\n",
       "        0.20313947, -0.24813677,  0.09562624, -0.94843674, -0.33750835,\n",
       "        0.28383842,  0.31231287, -0.20787932,  0.40258518, -0.38978857,\n",
       "       -0.20431654, -0.7646368 ,  0.01071183, -0.4443888 , -0.06419063,\n",
       "        0.5186082 ,  0.359579  ,  0.12224623, -0.34466606,  0.5681223 ,\n",
       "        0.9041099 ,  0.17690618,  0.02789625,  0.33012918,  0.19070292,\n",
       "        0.30446592,  0.868907  ,  0.7913562 ,  0.05912394, -0.36806   ,\n",
       "       -0.06103574, -0.08810075, -0.06723598,  0.12076487,  0.34244117,\n",
       "        0.6393051 , -0.03172027, -0.5337841 , -0.25314823, -0.50397724,\n",
       "        0.23036043,  0.52513295, -0.31400678, -0.13046183, -0.3255556 ,\n",
       "        0.0771988 ,  0.26383364, -0.23200311, -0.35505182,  0.7595231 ,\n",
       "       -0.09991361,  0.21451639, -0.20314524, -0.47636843,  0.46563783,\n",
       "       -0.25513422,  0.10011453, -0.5026345 ,  0.10393494,  0.44790846],\n",
       "      dtype=float32)"
      ]
     },
     "execution_count": 217,
     "metadata": {},
     "output_type": "execute_result"
    }
   ],
   "source": [
    "brides_wanted_2002D2V.docvecs[0]"
   ]
  },
  {
   "cell_type": "code",
   "execution_count": 218,
   "id": "3abbfc20",
   "metadata": {},
   "outputs": [
    {
     "data": {
      "text/plain": [
       "array([-0.54361737, -0.13669422, -0.20536576,  0.12701052, -0.28888604,\n",
       "       -0.09161919,  0.06829025,  0.35080412, -0.07998411,  0.15717334,\n",
       "       -0.14608642, -0.19326024,  0.05330575,  0.00639175,  0.23872907,\n",
       "       -0.06075494, -0.18057814,  0.09859299,  0.05158548,  0.15450399,\n",
       "        0.12511785,  0.0171676 ,  0.07160648,  0.1372076 , -0.28159803,\n",
       "        0.05282773, -0.27565688, -0.01801226, -0.1590994 , -0.18154992,\n",
       "        0.25564265,  0.1267212 ,  0.01044043,  0.1620597 ,  0.0305849 ,\n",
       "        0.0416671 , -0.14061932, -0.09122208, -0.08160957, -0.19638398,\n",
       "        0.08337456,  0.09440082, -0.12062611, -0.2729835 , -0.25566128,\n",
       "       -0.03174876,  0.03571581,  0.17170732,  0.01518686,  0.0686725 ,\n",
       "       -0.22335638, -0.17584236,  0.13231625, -0.10591003, -0.15006122,\n",
       "        0.08290796,  0.09979766,  0.16864003, -0.31662345,  0.08806457,\n",
       "        0.4453076 ,  0.25683022,  0.17476326,  0.04888738,  0.02576377,\n",
       "        0.15378709,  0.16633222,  0.33090147, -0.08784883,  0.01827908,\n",
       "        0.0859638 , -0.15901726,  0.00700202,  0.09102886,  0.4071952 ,\n",
       "        0.30417308,  0.18719517, -0.2706946 , -0.1786498 , -0.1701427 ,\n",
       "       -0.24386004,  0.05688807, -0.3227058 ,  0.00627294, -0.2921202 ,\n",
       "        0.15112653,  0.04235969, -0.11091985, -0.14688703,  0.18911982,\n",
       "       -0.12510961,  0.06624921, -0.10665509, -0.03023084,  0.12571424,\n",
       "        0.06428662, -0.03286182, -0.02975976,  0.02590424,  0.08674164],\n",
       "      dtype=float32)"
      ]
     },
     "execution_count": 218,
     "metadata": {},
     "output_type": "execute_result"
    }
   ],
   "source": [
    "brides_wanted_2002D2V['bride']"
   ]
  },
  {
   "cell_type": "code",
   "execution_count": 219,
   "id": "75a34eee",
   "metadata": {},
   "outputs": [
    {
     "data": {
      "text/plain": [
       "[('educated', 0.49275848269462585), ('sikh', 0.3738653361797333)]"
      ]
     },
     "execution_count": 219,
     "metadata": {},
     "output_type": "execute_result"
    }
   ],
   "source": [
    "brides_wanted_2002D2V.dv.most_similar(positive = ['girl','bride'], negative = ['boy'], topn = 2)"
   ]
  },
  {
   "cell_type": "code",
   "execution_count": 220,
   "id": "9f2028db",
   "metadata": {},
   "outputs": [
    {
     "data": {
      "text/plain": [
       "[('educated', 0.4074975848197937), ('family', 0.31103092432022095)]"
      ]
     },
     "execution_count": 220,
     "metadata": {},
     "output_type": "execute_result"
    }
   ],
   "source": [
    "brides_wanted_2002D2V.dv.most_similar(positive = ['girl','alliance'], negative = ['boy'], topn = 2)"
   ]
  },
  {
   "cell_type": "code",
   "execution_count": 221,
   "id": "5d131b1c",
   "metadata": {},
   "outputs": [
    {
     "data": {
      "text/plain": [
       "[('bride', 0.6743789911270142),\n",
       " ('income', 0.4718601405620575),\n",
       " ('alliance', 0.41854268312454224),\n",
       " ('boy', 0.32890328764915466),\n",
       " ('girl', 0.103572778403759)]"
      ]
     },
     "execution_count": 221,
     "metadata": {},
     "output_type": "execute_result"
    }
   ],
   "source": [
    "brides_wanted_2002D2V.docvecs.most_similar([ brides_wanted_2014D2V['bride'] ], topn=5 )"
   ]
  },
  {
   "cell_type": "code",
   "execution_count": 222,
   "id": "31d29bd0",
   "metadata": {},
   "outputs": [
    {
     "data": {
      "text/plain": [
       "[('bride', 0.5590758919715881),\n",
       " ('income', 0.44278469681739807),\n",
       " ('family', 0.3666698634624481),\n",
       " ('girl', 0.348236083984375),\n",
       " ('educated', 0.31326282024383545)]"
      ]
     },
     "execution_count": 222,
     "metadata": {},
     "output_type": "execute_result"
    }
   ],
   "source": [
    "brides_wanted_2002D2V.docvecs.most_similar([ brides_wanted_2014D2V['professional']+\\\n",
    "                                            brides_wanted_2014D2V['girl']+brides_wanted_2014D2V['income']], topn=5 )"
   ]
  },
  {
   "cell_type": "code",
   "execution_count": 223,
   "id": "7310cbd3",
   "metadata": {},
   "outputs": [],
   "source": [
    "heatmapMatrix = []\n",
    "for tagOuter in keywords:\n",
    "  \n",
    "    column = []\n",
    "    tagVec = brides_wanted_2002D2V.docvecs[tagOuter].reshape(1, -1)\n",
    "    \n",
    "    for tagInner in keywords:\n",
    "      \n",
    "        column.append(sklearn.metrics.pairwise.cosine_similarity(tagVec, brides_wanted_2002D2V.docvecs[tagInner].reshape(1, -1))[0][0])\n",
    "    heatmapMatrix.append(column)\n",
    "heatmapMatrix = np.array(heatmapMatrix)"
   ]
  },
  {
   "cell_type": "code",
   "execution_count": 224,
   "id": "095daaf1",
   "metadata": {},
   "outputs": [
    {
     "data": {
      "image/png": "[encoded data removed]",
      "text/plain": [
       "<Figure size 432x288 with 2 Axes>"
      ]
     },
     "metadata": {
      "needs_background": "light"
     },
     "output_type": "display_data"
    }
   ],
   "source": [
    "fig, ax = plt.subplots()\n",
    "hmap = ax.pcolor(heatmapMatrix, cmap='terrain')\n",
    "cbar = plt.colorbar(hmap)\n",
    "\n",
    "cbar.set_label('cosine similarity', rotation=270)\n",
    "a = ax.set_xticks(np.arange(heatmapMatrix.shape[1]) + 0.5, minor=False)\n",
    "a = ax.set_yticks(np.arange(heatmapMatrix.shape[0]) + 0.5, minor=False)\n",
    "\n",
    "a = ax.set_xticklabels(keywords, minor=False, rotation=270)\n",
    "a = ax.set_yticklabels(keywords, minor=False)"
   ]
  },
  {
   "cell_type": "code",
   "execution_count": 225,
   "id": "c24c7db1",
   "metadata": {},
   "outputs": [],
   "source": [
    "targetDocs = [i for i in range(9)]\n",
    "\n",
    "heatmapMatrixD = []\n",
    "\n",
    "for tagOuter in targetDocs:\n",
    "    column = []\n",
    "    tagVec = brides_wanted_2002D2V.docvecs[tagOuter].reshape(1, -1)\n",
    "    for tagInner in targetDocs:\n",
    "        column.append(sklearn.metrics.pairwise.cosine_similarity(tagVec, brides_wanted_2002D2V.docvecs[tagInner].reshape(1, -1))[0][0])\n",
    "    heatmapMatrixD.append(column)\n",
    "heatmapMatrixD = np.array(heatmapMatrixD)"
   ]
  },
  {
   "cell_type": "code",
   "execution_count": 226,
   "id": "9f75ef22",
   "metadata": {},
   "outputs": [
    {
     "data": {
      "image/png": "[encoded data removed]",
      "text/plain": [
       "<Figure size 432x288 with 2 Axes>"
      ]
     },
     "metadata": {
      "needs_background": "light"
     },
     "output_type": "display_data"
    }
   ],
   "source": [
    "fig, ax = plt.subplots()\n",
    "hmap = ax.pcolor(heatmapMatrixD, cmap='terrain')\n",
    "cbar = plt.colorbar(hmap)\n",
    "\n",
    "cbar.set_label('cosine similarity', rotation=270)\n",
    "a = ax.set_xticks(np.arange(heatmapMatrixD.shape[1]) + 0.5, minor=False)\n",
    "a = ax.set_yticks(np.arange(heatmapMatrixD.shape[0]) + 0.5, minor=False)\n",
    "\n",
    "a = ax.set_xticklabels(targetDocs, minor=False, rotation=270)\n",
    "a = ax.set_yticklabels(targetDocs, minor=False)"
   ]
  },
  {
   "cell_type": "code",
   "execution_count": 227,
   "id": "bb6b5523",
   "metadata": {},
   "outputs": [],
   "source": [
    "heatmapMatrixC = []\n",
    "\n",
    "for tagOuter in targetDocs:\n",
    "    column = []\n",
    "    tagVec = brides_wanted_2002D2V.docvecs[tagOuter].reshape(1, -1)\n",
    "    for tagInner in keywords:\n",
    "        column.append(sklearn.metrics.pairwise.cosine_similarity(tagVec, brides_wanted_2002D2V.docvecs[tagInner].reshape(1, -1))[0][0])\n",
    "    heatmapMatrixC.append(column)\n",
    "heatmapMatrixC = np.array(heatmapMatrixC)"
   ]
  },
  {
   "cell_type": "code",
   "execution_count": 228,
   "id": "5f9c97c2",
   "metadata": {},
   "outputs": [
    {
     "data": {
      "image/png": "[encoded data removed]",
      "text/plain": [
       "<Figure size 432x288 with 2 Axes>"
      ]
     },
     "metadata": {
      "needs_background": "light"
     },
     "output_type": "display_data"
    }
   ],
   "source": [
    "fig, ax = plt.subplots()\n",
    "hmap = ax.pcolor(heatmapMatrixC, cmap='terrain')\n",
    "cbar = plt.colorbar(hmap)\n",
    "\n",
    "cbar.set_label('cosine similarity', rotation=270)\n",
    "a = ax.set_xticks(np.arange(heatmapMatrixC.shape[1]) + 0.5, minor=False)\n",
    "a = ax.set_yticks(np.arange(heatmapMatrixC.shape[0]) + 0.5, minor=False)\n",
    "\n",
    "a = ax.set_xticklabels(keywords, minor=False, rotation=270)\n",
    "a = ax.set_yticklabels(targetDocs, minor=False)"
   ]
  },
  {
   "cell_type": "code",
   "execution_count": 229,
   "id": "c54ca88d",
   "metadata": {},
   "outputs": [],
   "source": [
    "brides_wanted_2002D2V.save('bwW2V')"
   ]
  },
  {
   "cell_type": "markdown",
   "id": "13eb3620",
   "metadata": {},
   "source": [
    "## <font color=\"red\">*Exercise 3*</font>\n",
    "\n",
    "<font color=\"red\">Construct cells immediately below this that embed documents related to your final project, then generate meaningful semantic dimensions based on your theoretical understanding of the semantic space (i.e., by subtracting semantically opposite word vectors) and project another set of word vectors onto those dimensions. Interpret the meaning of these projections for your analysis. Which of the dimensions you analyze explain the most variation in the projection of your words and why? \n",
    "\n",
    "<font color=\"red\">***Stretch***: Average together multiple antonym pairs to create robust semantic dimensions. How do word projections on these robust dimensions differ from single-pair dimensions?"
   ]
  },
  {
   "cell_type": "markdown",
   "id": "f96a614a",
   "metadata": {},
   "source": [
    "<font color=\"green\"> I create two dimensions of caste and gender and project words around appearance, occupation, and adjectives on these to understand how these key factors might vary with caste and gender. Turns out that adjectives such as smart, professional are related to castes dominant in the region. Moreover, young tesnds to be used for women more, and qualified for men. Appearance and occupation give more interesting insights since they actually showcase differences that could explain more systemic traditions. </font> "
   ]
  },
  {
   "cell_type": "code",
   "execution_count": 139,
   "id": "3f728901",
   "metadata": {},
   "outputs": [],
   "source": [
    "def normalize(vector):\n",
    "    normalized_vector = vector / np.linalg.norm(vector)\n",
    "    return normalized_vector\n",
    "\n",
    "def dimension(model, positives, negatives):\n",
    "    diff = sum([normalize(model[x]) for x in positives]) - sum([normalize(model[y]) for y in negatives])\n",
    "    return diff"
   ]
  },
  {
   "cell_type": "code",
   "execution_count": 399,
   "id": "ff6229b2",
   "metadata": {},
   "outputs": [],
   "source": [
    "caste = dimension(brides_wanted_2002W2V.wv,['jat','sikh','manglik'],['christian'])\n",
    "gender = dimension(brides_wanted_2002W2V.wv,['girl','bride'],['boy','match'])\n"
   ]
  },
  {
   "cell_type": "code",
   "execution_count": 473,
   "id": "327042f2",
   "metadata": {},
   "outputs": [],
   "source": [
    "adjectives = ['young','cultured','professional','reputed','qualified','smart']\n",
    "appearance = ['fair','beautiful','tall','shaven','handsome']\n",
    "occupation =['engineer','doctor','business','executive','lecturer']\n",
    "\n"
   ]
  },
  {
   "cell_type": "code",
   "execution_count": 474,
   "id": "6c112d61",
   "metadata": {},
   "outputs": [],
   "source": [
    "def makeDF(model, word_list):\n",
    "    c = []\n",
    "    g = []\n",
    "  \n",
    "    for word in word_list:\n",
    "        c.append(sklearn.metrics.pairwise.cosine_similarity(brides_wanted_2002W2V.wv[word].reshape(1,-1), caste.reshape(1,-1))[0][0])\n",
    "        #o.append(sklearn.metrics.pairwise.cosine_similarity(brides_wanted_2002W2V.wv[word].reshape(1,-1), occupation.reshape(1,-1))[0][0])\n",
    "        g.append(sklearn.metrics.pairwise.cosine_similarity(brides_wanted_2014W2V.wv[word].reshape(1,-1), gender.reshape(1,-1))[0][0])\n",
    "    df = pandas.DataFrame({'caste': c, 'gender': g}, index = word_list)\n",
    "    return df"
   ]
  },
  {
   "cell_type": "code",
   "execution_count": 475,
   "id": "580042ff",
   "metadata": {},
   "outputs": [],
   "source": [
    "Adjdf = makeDF(brides_wanted_2002W2V.wv, adjectives) \n",
    "Appdf = makeDF(brides_wanted_2002W2V.wv, appearance)\n",
    "Occsdf = makeDF(brides_wanted_2002W2V.wv, occupation)"
   ]
  },
  {
   "cell_type": "code",
   "execution_count": 476,
   "id": "dfd14dfc",
   "metadata": {},
   "outputs": [],
   "source": [
    "def Coloring(Series):\n",
    "    x = Series.values\n",
    "    y = x-x.min()\n",
    "    z = y/y.max()\n",
    "    c = list(plt.cm.rainbow(z))\n",
    "    return c\n",
    "\n",
    "def PlotDimension(ax,df, dim):\n",
    "    ax.set_frame_on(False)\n",
    "    ax.set_title(dim, fontsize = 20)\n",
    "    colors = Coloring(df[dim])\n",
    "    for i, word in enumerate(df.index):\n",
    "        ax.annotate(word, (0, df[dim][i]), color = colors[i], alpha = 0.6, fontsize = 12)\n",
    "    MaxY = df[dim].max()\n",
    "    MinY = df[dim].min()\n",
    "    plt.ylim(MinY,MaxY)\n",
    "    plt.yticks(())\n",
    "    plt.xticks(())"
   ]
  },
  {
   "cell_type": "code",
   "execution_count": 477,
   "id": "8c8c5615",
   "metadata": {},
   "outputs": [
    {
     "data": {
      "image/png": "[encoded data removed]",
      "text/plain": [
       "<Figure size 864x288 with 2 Axes>"
      ]
     },
     "metadata": {},
     "output_type": "display_data"
    }
   ],
   "source": [
    "fig = plt.figure(figsize = (12,4))\n",
    "ax1 = fig.add_subplot(131)\n",
    "PlotDimension(ax1, Adjdf, 'caste')\n",
    "ax2 = fig.add_subplot(132)\n",
    "PlotDimension(ax2, Adjdf, 'gender')\n",
    "\n",
    "plt.show()"
   ]
  },
  {
   "cell_type": "code",
   "execution_count": 478,
   "id": "f9caa024",
   "metadata": {},
   "outputs": [
    {
     "data": {
      "image/png": "[encoded data removed]",
      "text/plain": [
       "<Figure size 864x288 with 2 Axes>"
      ]
     },
     "metadata": {},
     "output_type": "display_data"
    }
   ],
   "source": [
    "fig = plt.figure(figsize = (12,4))\n",
    "ax1 = fig.add_subplot(131)\n",
    "PlotDimension(ax1, Appdf, 'caste')\n",
    "ax2 = fig.add_subplot(132)\n",
    "PlotDimension(ax2, Appdf, 'gender')\n",
    "\n",
    "plt.show()"
   ]
  },
  {
   "cell_type": "code",
   "execution_count": 479,
   "id": "abb11b0c",
   "metadata": {},
   "outputs": [
    {
     "data": {
      "image/png": "[encoded data removed]",
      "text/plain": [
       "<Figure size 864x288 with 2 Axes>"
      ]
     },
     "metadata": {},
     "output_type": "display_data"
    }
   ],
   "source": [
    "fig = plt.figure(figsize = (12,4))\n",
    "ax1 = fig.add_subplot(131)\n",
    "PlotDimension(ax1, Occsdf, 'caste')\n",
    "ax2 = fig.add_subplot(132)\n",
    "PlotDimension(ax2, Occsdf, 'gender')\n",
    "\n",
    "plt.show()"
   ]
  },
  {
   "cell_type": "markdown",
   "id": "26631865",
   "metadata": {},
   "source": [
    "## <font color=\"red\">*Exercise 4a*</font>\n",
    "\n",
    "<font color=\"red\">**Do only 4a or 4b.** Construct cells immediately below this that calculate the scores for a small sample of documents from outside your corpus to identify which are *closest* to your corpus. Then calculate the scores for a few phrases or sentences to identify the ones most likely to have appeared in your corpus. Interrogate patterns associated with these document/phrase scores (e.g., which companies produced job ads most or least likely to find jobseekers in the resume corpus?) What do these patterns suggest about the boundaries of your corpus?"
   ]
  },
  {
   "cell_type": "markdown",
   "id": "4b69174e",
   "metadata": {},
   "source": [
    "<font color=\"green\"> I compare ads for grooms against the model trained on ads for brides and see how potentially close they are. By intuition, since people do tend to find matches through these ads, it would be interesting to see results. For instance, fair and tall boys is more likely to be in the ads than educated boys. Moreover, there is no major difference between bous belonging to the arora caste or sikh caste, which makes sense since these emerged at the top for the model trained on the bridal ads. Deeper interrogation could provide more meaningful results. </font>"
   ]
  },
  {
   "cell_type": "code",
   "execution_count": 487,
   "id": "22f001ab",
   "metadata": {},
   "outputs": [
    {
     "name": "stderr",
     "output_type": "stream",
     "text": [
      "/Users/pranathiiyer/opt/anaconda3/lib/python3.8/site-packages/spacy/pipeline/lemmatizer.py:211: UserWarning: [W108] The rule-based lemmatizer did not find POS annotation for one or more tokens. Check that your pipeline includes components that assign token.pos, typically 'tagger'+'attribute_ruler' or 'morphologizer'.\n",
      "  warnings.warn(Warnings.W108)\n"
     ]
    },
    {
     "data": {
      "text/html": [
       "<div>\n",
       "<style scoped>\n",
       "    .dataframe tbody tr th:only-of-type {\n",
       "        vertical-align: middle;\n",
       "    }\n",
       "\n",
       "    .dataframe tbody tr th {\n",
       "        vertical-align: top;\n",
       "    }\n",
       "\n",
       "    .dataframe thead th {\n",
       "        text-align: right;\n",
       "    }\n",
       "</style>\n",
       "<table border=\"1\" class=\"dataframe\">\n",
       "  <thead>\n",
       "    <tr style=\"text-align: right;\">\n",
       "      <th></th>\n",
       "      <th>Unnamed: 0</th>\n",
       "      <th>text</th>\n",
       "      <th>tokenized_sents</th>\n",
       "      <th>normalized_sents</th>\n",
       "    </tr>\n",
       "  </thead>\n",
       "  <tbody>\n",
       "    <tr>\n",
       "      <th>0</th>\n",
       "      <td>NOTE: Please do not send any images/photograph...</td>\n",
       "      <td>NOTE: Please do not send any images/photograph...</td>\n",
       "      <td>[[NOTE, Please, do, not, send, any, images, ph...</td>\n",
       "      <td>[[note, send, images, photographs, reply, forw...</td>\n",
       "    </tr>\n",
       "    <tr>\n",
       "      <th>1</th>\n",
       "      <td>Suitable match for Saraswat Brahmin  Manglik n...</td>\n",
       "      <td>Suitable match for Saraswat Brahmin  Manglik n...</td>\n",
       "      <td>[[Suitable, match, for, Saraswat, Brahmin, Man...</td>\n",
       "      <td>[[suitable, match, saraswat, brahmin, manglik,...</td>\n",
       "    </tr>\n",
       "    <tr>\n",
       "      <th>2</th>\n",
       "      <td>Match for beautiful Sikh TonkKashtriya girl 23...</td>\n",
       "      <td>Match for beautiful Sikh TonkKashtriya girl 23...</td>\n",
       "      <td>[[Match, for, beautiful, Sikh, TonkKashtriya, ...</td>\n",
       "      <td>[[match, beautiful, sikh, tonkkashtriya, girl,...</td>\n",
       "    </tr>\n",
       "    <tr>\n",
       "      <th>3</th>\n",
       "      <td>Well settled match for beautiful smart convent...</td>\n",
       "      <td>Well settled match for beautiful smart convent...</td>\n",
       "      <td>[[Well, settled, match, for, beautiful, smart,...</td>\n",
       "      <td>[[settled, match, beautiful, smart, convent, e...</td>\n",
       "    </tr>\n",
       "    <tr>\n",
       "      <th>4</th>\n",
       "      <td>Suitable alliance for Kumhar Sikh beautiful at...</td>\n",
       "      <td>Suitable alliance for Kumhar Sikh beautiful at...</td>\n",
       "      <td>[[Suitable, alliance, for, Kumhar, Sikh, beaut...</td>\n",
       "      <td>[[suitable, alliance, kumhar, sikh, beautiful,...</td>\n",
       "    </tr>\n",
       "    <tr>\n",
       "      <th>...</th>\n",
       "      <td>...</td>\n",
       "      <td>...</td>\n",
       "      <td>...</td>\n",
       "      <td>...</td>\n",
       "    </tr>\n",
       "    <tr>\n",
       "      <th>5912</th>\n",
       "      <td>Suitable match for    based Weaver Sikh fair s...</td>\n",
       "      <td>Suitable match for    based Weaver Sikh fair s...</td>\n",
       "      <td>[[Suitable, match, for, based, Weaver, Sikh, f...</td>\n",
       "      <td>[[suitable, match, based, weaver, sikh, fair, ...</td>\n",
       "    </tr>\n",
       "    <tr>\n",
       "      <th>5913</th>\n",
       "      <td>Match for Engineer  23/1575 slim extremely bea...</td>\n",
       "      <td>Match for Engineer  23/1575 slim extremely bea...</td>\n",
       "      <td>[[Match, for, Engineer, 23/1575, slim, extreme...</td>\n",
       "      <td>[[match, engineer, slim, extremely, beautiful,...</td>\n",
       "    </tr>\n",
       "    <tr>\n",
       "      <th>5914</th>\n",
       "      <td>I Sukhdeep Singh Dhindsa S/o Hardev Singh R/o ...</td>\n",
       "      <td>I Sukhdeep Singh Dhindsa S/o Hardev Singh R/o ...</td>\n",
       "      <td>[[I, Sukhdeep, Singh, Dhindsa, S, o, Hardev, S...</td>\n",
       "      <td>[[sukhdeep, singh, dhindsa, s, o, hardev, sing...</td>\n",
       "    </tr>\n",
       "    <tr>\n",
       "      <th>5915</th>\n",
       "      <td>Mohali: 300 sq yards plot for sale (Sector 76...</td>\n",
       "      <td>Mohali: 300 sq yards plot for sale (Sector 76...</td>\n",
       "      <td>[[Mohali, 300, sq, yards, plot, for, sale, Sec...</td>\n",
       "      <td>[[mohali, sq, yards, plot, sale, sector, new, ...</td>\n",
       "    </tr>\n",
       "    <tr>\n",
       "      <th>5916</th>\n",
       "      <td>NaN</td>\n",
       "      <td>NaN</td>\n",
       "      <td>[[nan]]</td>\n",
       "      <td>[[nan]]</td>\n",
       "    </tr>\n",
       "  </tbody>\n",
       "</table>\n",
       "<p>5917 rows × 4 columns</p>\n",
       "</div>"
      ],
      "text/plain": [
       "                                             Unnamed: 0  \\\n",
       "0     NOTE: Please do not send any images/photograph...   \n",
       "1     Suitable match for Saraswat Brahmin  Manglik n...   \n",
       "2     Match for beautiful Sikh TonkKashtriya girl 23...   \n",
       "3     Well settled match for beautiful smart convent...   \n",
       "4     Suitable alliance for Kumhar Sikh beautiful at...   \n",
       "...                                                 ...   \n",
       "5912  Suitable match for    based Weaver Sikh fair s...   \n",
       "5913  Match for Engineer  23/1575 slim extremely bea...   \n",
       "5914  I Sukhdeep Singh Dhindsa S/o Hardev Singh R/o ...   \n",
       "5915   Mohali: 300 sq yards plot for sale (Sector 76...   \n",
       "5916                                                NaN   \n",
       "\n",
       "                                                   text  \\\n",
       "0     NOTE: Please do not send any images/photograph...   \n",
       "1     Suitable match for Saraswat Brahmin  Manglik n...   \n",
       "2     Match for beautiful Sikh TonkKashtriya girl 23...   \n",
       "3     Well settled match for beautiful smart convent...   \n",
       "4     Suitable alliance for Kumhar Sikh beautiful at...   \n",
       "...                                                 ...   \n",
       "5912  Suitable match for    based Weaver Sikh fair s...   \n",
       "5913  Match for Engineer  23/1575 slim extremely bea...   \n",
       "5914  I Sukhdeep Singh Dhindsa S/o Hardev Singh R/o ...   \n",
       "5915   Mohali: 300 sq yards plot for sale (Sector 76...   \n",
       "5916                                                NaN   \n",
       "\n",
       "                                        tokenized_sents  \\\n",
       "0     [[NOTE, Please, do, not, send, any, images, ph...   \n",
       "1     [[Suitable, match, for, Saraswat, Brahmin, Man...   \n",
       "2     [[Match, for, beautiful, Sikh, TonkKashtriya, ...   \n",
       "3     [[Well, settled, match, for, beautiful, smart,...   \n",
       "4     [[Suitable, alliance, for, Kumhar, Sikh, beaut...   \n",
       "...                                                 ...   \n",
       "5912  [[Suitable, match, for, based, Weaver, Sikh, f...   \n",
       "5913  [[Match, for, Engineer, 23/1575, slim, extreme...   \n",
       "5914  [[I, Sukhdeep, Singh, Dhindsa, S, o, Hardev, S...   \n",
       "5915  [[Mohali, 300, sq, yards, plot, for, sale, Sec...   \n",
       "5916                                            [[nan]]   \n",
       "\n",
       "                                       normalized_sents  \n",
       "0     [[note, send, images, photographs, reply, forw...  \n",
       "1     [[suitable, match, saraswat, brahmin, manglik,...  \n",
       "2     [[match, beautiful, sikh, tonkkashtriya, girl,...  \n",
       "3     [[settled, match, beautiful, smart, convent, e...  \n",
       "4     [[suitable, alliance, kumhar, sikh, beautiful,...  \n",
       "...                                                 ...  \n",
       "5912  [[suitable, match, based, weaver, sikh, fair, ...  \n",
       "5913  [[match, engineer, slim, extremely, beautiful,...  \n",
       "5914  [[sukhdeep, singh, dhindsa, s, o, hardev, sing...  \n",
       "5915  [[mohali, sq, yards, plot, sale, sector, new, ...  \n",
       "5916                                            [[nan]]  \n",
       "\n",
       "[5917 rows x 4 columns]"
      ]
     },
     "execution_count": 487,
     "metadata": {},
     "output_type": "execute_result"
    }
   ],
   "source": [
    "grooms_wanted2002 = pd.read_csv('brides-wanted_2002.csv')\n",
    "grooms_wanted2002['text'] = pd.read_csv('brides-wanted_2002.csv')\n",
    "grooms_wanted2002['tokenized_sents'] = grooms_wanted2002['text'].apply(lambda x: [lucem_illud.word_tokenize(s) for s in lucem_illud.sent_tokenize(str(x))])\n",
    "grooms_wanted2002['normalized_sents'] = grooms_wanted2002['tokenized_sents'].apply(lambda x: [lucem_illud.normalizeTokens(s) for s in x])\n",
    "grooms_wanted2002"
   ]
  },
  {
   "cell_type": "code",
   "execution_count": 488,
   "id": "c1e0946a",
   "metadata": {},
   "outputs": [],
   "source": [
    "def adprob(ad, model):\n",
    "    sen_scores = model.score(ad, len(ad))\n",
    "    ad_score = sen_scores.mean()\n",
    "    return ad_score"
   ]
  },
  {
   "cell_type": "code",
   "execution_count": 492,
   "id": "1870f5be",
   "metadata": {},
   "outputs": [],
   "source": [
    "brides_wanted_2002W2V = gensim.models.word2vec.Word2Vec(brides_wanted_2002['normalized_sents'].sum(), sg=0, hs = 1, negative = 0)"
   ]
  },
  {
   "cell_type": "code",
   "execution_count": 493,
   "id": "bee89cd5",
   "metadata": {},
   "outputs": [],
   "source": [
    "grooms_wanted2002['likelihood'] = grooms_wanted2002['normalized_sents'].apply(lambda x: adprob(x, brides_wanted_2002W2V))"
   ]
  },
  {
   "cell_type": "code",
   "execution_count": 511,
   "id": "13560a57",
   "metadata": {},
   "outputs": [
    {
     "name": "stdout",
     "output_type": "stream",
     "text": [
      "Four kanal fully marbled ground\r",
      "floor\n",
      "\n",
      "\n",
      "A fast growing Infrastructure\r",
      "Group requires\n",
      "\n",
      "\n",
      "Four kanal fully marbled\r",
      "  ground\n",
      "\n",
      "\n",
      "One kanal independent single\r",
      "  storey\n",
      "\n",
      "\n",
      "Hot sale one kanal single storey free\n",
      "\n",
      "\n",
      "One kanal independent single\r",
      "storey\n",
      "\n",
      "\n",
      "Four kanal fully marbled ground\r",
      "floor\n",
      "\n",
      "\n",
      "Hot sale never before one\r",
      "  kanal single\n",
      "\n",
      "\n",
      "Hot sale two kanal single\r",
      "storey facing park\n",
      "\n",
      "\n",
      "Independent kothies portions\r",
      "shops\n",
      "\n",
      "\n"
     ]
    }
   ],
   "source": [
    "for ad in grooms_wanted2002.sort_values(by = 'likelihood', ascending = False)['text'][:10]:\n",
    "    print (str(ad) + '\\n\\n')"
   ]
  },
  {
   "cell_type": "code",
   "execution_count": 510,
   "id": "1e95b749",
   "metadata": {},
   "outputs": [
    {
     "name": "stdout",
     "output_type": "stream",
     "text": [
      "Doctor/Engg/MBA Gursikh boy\r",
      "proceeding\n",
      "\n",
      "\n",
      "Suitable match for Jat Sikh slim good look\n",
      "\n",
      "\n",
      "Suitable match for Jat Sikh slim good look\n",
      "\n",
      "\n",
      "Match for fair good looking Arora girl  25/52/MCom/PGDCA/MSc(Software) working Senior Faculty in reputed computer centre  Contact with BHP (R)   861NEHOL     Email: rn_arora@yahoocom\n",
      "\n",
      "\n",
      "Match for fair good looking Arora girl  25/52/MCom/PGDCA/MSc(Software) working Senior Faculty in reputed computer centre  Contact with BHP (R)   861NEHOL     Email: rn_arora@yahoocom\n",
      "\n",
      "\n",
      "US based match for Jatsikh doctor girl\n",
      "\n",
      "\n",
      "US based match for Jatsikh doctor girl\n",
      "\n",
      "\n",
      "Suitable match for slightly Manglik Punjabi Saraswat Brahmin girl 24½/165 BA (H)/MA diploma holder in WebDesigning and desk top publishing Adhi Nadi BHP must\n",
      "\n",
      "\n",
      "Suitable match for slightly Manglik Punjabi Saraswat Brahmin girl 24½/165 BA (H)/MA diploma holder in WebDesigning and desk top publishing Adhi Nadi BHP must\n",
      "\n",
      "\n",
      "Foreign settled match Brahmin\r",
      "  girl\n",
      "\n",
      "\n"
     ]
    }
   ],
   "source": [
    "for ad in grooms_wanted2002.sort_values(by = 'likelihood', ascending = False)['text'][1990:2000]:\n",
    "    print (str(ad) + '\\n\\n')"
   ]
  },
  {
   "cell_type": "code",
   "execution_count": 513,
   "id": "cfdf0000",
   "metadata": {},
   "outputs": [
    {
     "name": "stdout",
     "output_type": "stream",
     "text": [
      " Status well placed BE Tech MBA Class one govt officer Jat Sikh match for  convent educated BSc MEd MBA Bfull charming intelligent girl 54 27½ Sr Executive MNC Delhi 425 lac PA promising fast growth career widely travelled traimed holiday abroad topper has multiple entry USA visa for 10 years status family settled India USA/Canada Abroad father Sr Defence Officer early marriage correspond with details recent photograph   1336FOL\n",
      "\n",
      "\n",
      " Status well placed BE Tech MBA Class one govt officer Jat Sikh match for  convent educated BSc MEd MBA Bfull charming intelligent girl 54 27½ Sr Executive MNC Delhi 425 lac PA promising fast growth career widely travelled traimed holiday abroad topper has multiple entry USA visa for 10 years status family settled India USA/Canada Abroad father Sr Defence Officer early marriage correspond with details recent photograph   1336FOL\n",
      "\n",
      "\n",
      " Wanted Jat Sikh match for convent educated girl 25/59 MA BEd  wheatish intelligent talented teaching profession Belongs to army family         Professional/businessman bachelor/issueless below 35 for slim beautiful  \r",
      "\r",
      " Punjabi Hindu Khatri working homely girl 28/158 graduate computer diploma issueless innocent divorcee previous marriage lasted few weeks Small simple decent family Mother sister brother abroad Apply with  BHP   1260FOL\n",
      "\n",
      "\n",
      " Wanted Jat Sikh match for convent educated girl 25/59 MA BEd  wheatish intelligent talented teaching profession Belongs to army family         Professional/businessman bachelor/issueless below 35 for slim beautiful  \r",
      "\r",
      " Punjabi Hindu Khatri working homely girl 28/158 graduate computer diploma issueless innocent divorcee previous marriage lasted few weeks Small simple decent family Mother sister brother abroad Apply with  BHP   1260FOL\n",
      "\n",
      "\n",
      "Well established north\r",
      "Indian Mair Rajput Hindu Sikh family\r",
      "invite alliance forprofessionally qualified match for Indian raised US permanent resident\r",
      "25/160 cms convent educated MBBS preparing for USMLE pretty smart and caring\r",
      "girl with Indian values Teetotaller nonsmoker medical professional either\r",
      "doctor or one in medical residency is preferred Only USA settled need\r",
      "correspond interested please contact with photo/kundli at\n",
      "\n",
      "\n"
     ]
    }
   ],
   "source": [
    "for ad in grooms_wanted2002.sort_values(by = 'likelihood')['text'][:5]:\n",
    "    print (str(ad) + '\\n\\n')"
   ]
  },
  {
   "cell_type": "code",
   "execution_count": 518,
   "id": "f2b6d1a0",
   "metadata": {},
   "outputs": [
    {
     "data": {
      "text/plain": [
       "-9.211585"
      ]
     },
     "execution_count": 518,
     "metadata": {},
     "output_type": "execute_result"
    }
   ],
   "source": [
    "adprob([[\"sikh\", \"fair\"]], brides_wanted_2002W2V)"
   ]
  },
  {
   "cell_type": "code",
   "execution_count": 519,
   "id": "f95fc2d3",
   "metadata": {},
   "outputs": [
    {
     "data": {
      "text/plain": [
       "-9.601708"
      ]
     },
     "execution_count": 519,
     "metadata": {},
     "output_type": "execute_result"
    }
   ],
   "source": [
    "adprob([[\"arora\", \"fair\"]], brides_wanted_2002W2V)"
   ]
  },
  {
   "cell_type": "code",
   "execution_count": 520,
   "id": "85bca4b6",
   "metadata": {},
   "outputs": [
    {
     "data": {
      "text/plain": [
       "-8.882439"
      ]
     },
     "execution_count": 520,
     "metadata": {},
     "output_type": "execute_result"
    }
   ],
   "source": [
    "adprob([[\"educated\", \"boy\"]], brides_wanted_2002W2V)"
   ]
  },
  {
   "cell_type": "code",
   "execution_count": 521,
   "id": "fcea86a2",
   "metadata": {},
   "outputs": [
    {
     "data": {
      "text/plain": [
       "-9.083979"
      ]
     },
     "execution_count": 521,
     "metadata": {},
     "output_type": "execute_result"
    }
   ],
   "source": [
    "adprob([[\"fair\", \"boy\"]], brides_wanted_2002W2V)"
   ]
  },
  {
   "cell_type": "code",
   "execution_count": 522,
   "id": "b3006a7e",
   "metadata": {},
   "outputs": [
    {
     "data": {
      "text/plain": [
       "-10.059336"
      ]
     },
     "execution_count": 522,
     "metadata": {},
     "output_type": "execute_result"
    }
   ],
   "source": [
    "adprob([[\"tall\", \"boy\"]], brides_wanted_2002W2V)"
   ]
  },
  {
   "cell_type": "code",
   "execution_count": null,
   "id": "4440f25d",
   "metadata": {},
   "outputs": [],
   "source": []
  },
  {
   "cell_type": "code",
   "execution_count": null,
   "id": "cf376330",
   "metadata": {},
   "outputs": [],
   "source": []
  },
  {
   "cell_type": "code",
   "execution_count": null,
   "id": "914b603f",
   "metadata": {},
   "outputs": [],
   "source": []
  }
 ],
 "metadata": {
  "kernelspec": {
   "display_name": "Python 3",
   "language": "python",
   "name": "python3"
  },
  "language_info": {
   "codemirror_mode": {
    "name": "ipython",
    "version": 3
   },
   "file_extension": ".py",
   "mimetype": "text/x-python",
   "name": "python",
   "nbconvert_exporter": "python",
   "pygments_lexer": "ipython3",
   "version": "3.8.8"
  }
 },
 "nbformat": 4,
 "nbformat_minor": 5
}
