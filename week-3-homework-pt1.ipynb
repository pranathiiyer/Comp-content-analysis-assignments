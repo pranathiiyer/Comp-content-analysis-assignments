{
 "cells": [
  {
   "cell_type": "markdown",
   "id": "79766d76",
   "metadata": {},
   "source": [
    "## <font color=\"red\">*Exercise 1*</font>\n",
    "\n",
    "<font color=\"red\">Construct cells immediately below this that construct features and cluster your documents using K-means and a variety of cluster numbers. Interrogate the cluster contents in terms of both documents and features. Identify the \"optimal\" cluster number with Silhouette analysis. Plot clusters and features after reducing with PCA. What does this cluster structure reveal about the organization of documents in your corpora? "
   ]
  },
  {
   "cell_type": "markdown",
   "id": "064a1099",
   "metadata": {},
   "source": [
    "## <font color=\"green\">For this assignment, I was originally looking at long documents however, prof Evans suggested that I use the same bridal ads data for clustering and topic modelling since sometimes shorter documents work better for these methods owing to the tight knit structure of the words. Thus, for this assignment I use ads seeking grooms for the entire year of 2014 as separate documents which is about 23000 ads.</font>"
   ]
  },
  {
   "cell_type": "markdown",
   "id": "7f0e3bcd",
   "metadata": {},
   "source": [
    " <font color=\"green\"> \n",
    "1. As it can be observed, since this data is not clean, and a little nuanced in the Indian context,some of the words in the clusters are meaningless. However words such as \"jat, usa, canada, businessmen etc\" do appear in the second cluster. This could reflect ads talking about jat men or women wishing to migrate to these countries. Hostorically these communities do find a very large pool of immigrants in Canada, and this could give some interesting insights if cleaned more thoroughly. \n",
    "    \n",
    "2. Based on the silhoutte score, there seems to be no significant difference between clusters of 2 and 3. Based on an initial analysis without proper cleaning, it seems like the clusters aggregate with respect to terms that describe contacts of individuals mentioned in ads (must be cleaned), talk about a few countries along with the mention of ethnic communities, and some arbitrary data. \n",
    "    \n",
    "3. The extremely short nature of the documents seem to bring out certain similar results compared to the project done using computational linguistucs is not as robust. With more clean data, the organization of these organization would be more clear. Moreover, it would be interesting to see this over the years.</font>\n",
    "    \n",
    "  "
   ]
  },
  {
   "cell_type": "code",
   "execution_count": 2,
   "id": "b32c2782",
   "metadata": {},
   "outputs": [],
   "source": [
    "#Special module written for this class\n",
    "#This provides access to data and to helper functions from previous weeks\n",
    "#Make sure you update it before starting this notebook\n",
    "import lucem_illud #pip install -U git+git://github.com/UChicago-Computational-Content-Analysis/lucem_illud.git\n",
    "\n",
    "\n",
    "#All these packages need to be installed from pip\n",
    "#These are all for the cluster detection\n",
    "import sklearn\n",
    "import sklearn.feature_extraction.text\n",
    "import sklearn.pipeline\n",
    "import sklearn.preprocessing\n",
    "import sklearn.datasets\n",
    "import sklearn.cluster\n",
    "import sklearn.decomposition\n",
    "import sklearn.metrics\n",
    "\n",
    "import scipy #For hierarchical clustering and some visuals\n",
    "#import scipy.cluster.hierarchy\n",
    "import gensim#For topic modeling\n",
    "import requests #For downloading our datasets\n",
    "import numpy as np #for arrays\n",
    "import pandas #gives us DataFrames\n",
    "import matplotlib.pyplot as plt #For graphics\n",
    "import matplotlib.cm #Still for graphics\n",
    "import seaborn as sns #Makes the graphics look nicer\n",
    "\n",
    "#This 'magic' command makes the plots work better\n",
    "#in the notebook, don't use it outside of a notebook.\n",
    "#Also you can ignore the warning, it\n",
    "%matplotlib inline\n",
    "\n",
    "import itertools\n",
    "import json"
   ]
  },
  {
   "cell_type": "code",
   "execution_count": 3,
   "id": "f4f2367b",
   "metadata": {},
   "outputs": [],
   "source": [
    "grooms_wanted = pandas.read_csv(\"grooms_wanted_2014.csv\")\n",
    "grooms_wanted.dropna(how='any',inplace = True)\n",
    "grooms_wanted['text'] = pandas.read_csv(\"grooms_wanted_2014.csv\")\n"
   ]
  },
  {
   "cell_type": "code",
   "execution_count": 4,
   "id": "209d446e",
   "metadata": {},
   "outputs": [],
   "source": [
    "groomTFVectorizer = sklearn.feature_extraction.text.TfidfVectorizer(max_df=.5, min_df=1, stop_words='english', norm='l2')\n",
    "groomTFVects = groomTFVectorizer.fit_transform(grooms_wanted['text'])"
   ]
  },
  {
   "cell_type": "code",
   "execution_count": 200,
   "id": "a6787fb4",
   "metadata": {},
   "outputs": [
    {
     "name": "stdout",
     "output_type": "stream",
     "text": [
      "Top terms per cluster:\n",
      "Cluster 0:\n",
      " c3\n",
      " space\n",
      " canada\n",
      " sqft\n",
      " pune\n",
      " english\n",
      " new\n",
      " ajit\n",
      " independent\n",
      " canadian\n",
      "\n",
      "\n",
      "Cluster 1:\n",
      " c4\n",
      " jat\n",
      " usa\n",
      " businessman\n",
      " canada\n",
      " 86\n",
      " parents\n",
      " panchkula\n",
      " manager\n",
      " saraswat\n",
      "\n",
      "\n",
      "Cluster 2:\n",
      " jat\n",
      " usa\n",
      " canada\n",
      " daughter\n",
      " canadian\n",
      " india\n",
      " parents\n",
      " jatt\n",
      " rajput\n",
      " recent\n",
      "\n",
      "\n",
      "Cluster 3:\n",
      " land\n",
      " acres\n",
      " ase\n",
      " 71\n",
      " marla\n",
      " 69\n",
      " 70\n",
      " road\n",
      " 11\n",
      " near\n",
      "\n",
      "\n"
     ]
    }
   ],
   "source": [
    "km = sklearn.cluster.KMeans(n_clusters=4, init='k-means++')\n",
    "km.fit(groomTFVects )\n",
    "terms = groomTFVectorizer.get_feature_names()\n",
    "print(\"Top terms per cluster:\")\n",
    "order_centroids = km.cluster_centers_.argsort()[:, ::-1]\n",
    "for i in range(4):\n",
    "    print(\"Cluster %d:\" % i)\n",
    "    for ind in order_centroids[i, :10]:\n",
    "        print(' %s' % terms[ind])\n",
    "    print('\\n')\n"
   ]
  },
  {
   "cell_type": "code",
   "execution_count": 202,
   "id": "1f162132",
   "metadata": {},
   "outputs": [],
   "source": [
    "def plotSilhouette(n_clusters, X):\n",
    "    fig, (ax1, ax2) = plt.subplots(ncols=2, figsize = (15,5))\n",
    "    \n",
    "    ax1.set_xlim([-0.1, 1])\n",
    "    ax1.set_ylim([0, len(X) + (n_clusters + 1) * 10])\n",
    "    clusterer = sklearn.cluster.KMeans(n_clusters=n_clusters, random_state=10)\n",
    "    cluster_labels = clusterer.fit_predict(X)\n",
    "    \n",
    "    silhouette_avg = sklearn.metrics.silhouette_score(X, cluster_labels)\n",
    "\n",
    "    # Compute the silhouette scores for each sample\n",
    "    sample_silhouette_values = sklearn.metrics.silhouette_samples(X, cluster_labels)\n",
    "\n",
    "    y_lower = 10\n",
    "    \n",
    "    for i in range(n_clusters):\n",
    "        ith_cluster_silhouette_values = sample_silhouette_values[cluster_labels == i]\n",
    "\n",
    "        ith_cluster_silhouette_values.sort()\n",
    "\n",
    "        size_cluster_i = ith_cluster_silhouette_values.shape[0]\n",
    "        y_upper = y_lower + size_cluster_i\n",
    "        cmap = matplotlib.cm.get_cmap(\"nipy_spectral\")\n",
    "        color = cmap(float(i) / n_clusters)\n",
    "        ax1.fill_betweenx(np.arange(y_lower, y_upper),\n",
    "                          0, ith_cluster_silhouette_values,\n",
    "                          facecolor=color, edgecolor=color, alpha=0.7)\n",
    "\n",
    "        ax1.text(-0.05, y_lower + 0.5 * size_cluster_i, str(i))\n",
    "\n",
    "        y_lower = y_upper + 10\n",
    "    \n",
    "    ax1.set_title(\"The silhouette plot for the various clusters.\")\n",
    "    ax1.set_xlabel(\"The silhouette coefficient values\")\n",
    "    ax1.set_ylabel(\"Cluster label\")\n",
    "\n",
    "    ax1.axvline(x=silhouette_avg, color=\"red\", linestyle=\"--\")\n",
    "\n",
    "    ax1.set_yticks([])  # Clear the yaxis labels / ticks\n",
    "    ax1.set_xticks([-0.1, 0, 0.2, 0.4, 0.6, 0.8, 1])\n",
    "\n",
    "    # 2nd Plot showing the actual clusters formed\n",
    "    cmap = matplotlib.cm.get_cmap(\"nipy_spectral\")\n",
    "    colors = cmap(float(i) / n_clusters)\n",
    "    ax2.scatter(reduced_data[:, 0], reduced_data[:, 1], marker='.', s=30, lw=0, alpha=0.7,\n",
    "                c=colors)\n",
    "\n",
    "    # Labeling the clusters\n",
    "    centers = clusterer.cluster_centers_\n",
    "    projected_centers = pca.transform(centers)\n",
    "    # Draw white circles at cluster centers\n",
    "    ax2.scatter(projected_centers[:, 0], projected_centers[:, 1],\n",
    "                marker='o', c=\"white\", alpha=1, s=200)\n",
    "\n",
    "    for i, c in enumerate(projected_centers):\n",
    "        ax2.scatter(c[0], c[1], marker='$%d$' % i, alpha=1, s=50)\n",
    "\n",
    "    ax2.set_title(\"The visualization of the clustered data.\")\n",
    "    ax2.set_xlabel(\"PC 1\")\n",
    "    ax2.set_ylabel(\"PC 2\")\n",
    "\n",
    "    plt.suptitle((\"Silhouette analysis for KMeans clustering on sample data \"\n",
    "                  \"with n_clusters = %d\" % n_clusters),\n",
    "                 fontsize=14, fontweight='bold')\n",
    "    plt.show()\n",
    "    print(\"For n_clusters = {}, The average silhouette_score is : {:.3f}\".format(n_clusters, silhouette_avg))"
   ]
  },
  {
   "cell_type": "code",
   "execution_count": 203,
   "id": "50540865",
   "metadata": {},
   "outputs": [
    {
     "data": {
      "image/png": "[encoded data removed]",
      "text/plain": [
       "<Figure size 1080x360 with 2 Axes>"
      ]
     },
     "metadata": {
      "needs_background": "light"
     },
     "output_type": "display_data"
    },
    {
     "name": "stdout",
     "output_type": "stream",
     "text": [
      "For n_clusters = 2, The average silhouette_score is : 0.046\n"
     ]
    }
   ],
   "source": [
    "X = groomTFVects.toarray()\n",
    "plotSilhouette(2, X)"
   ]
  },
  {
   "cell_type": "code",
   "execution_count": 204,
   "id": "8f05bc8a",
   "metadata": {},
   "outputs": [
    {
     "data": {
      "image/png": "[encoded data removed]",
      "text/plain": [
       "<Figure size 1080x360 with 2 Axes>"
      ]
     },
     "metadata": {
      "needs_background": "light"
     },
     "output_type": "display_data"
    },
    {
     "name": "stdout",
     "output_type": "stream",
     "text": [
      "For n_clusters = 3, The average silhouette_score is : 0.047\n"
     ]
    }
   ],
   "source": [
    "X = groomTFVects.toarray()\n",
    "plotSilhouette(3, X)"
   ]
  },
  {
   "cell_type": "code",
   "execution_count": 205,
   "id": "12b330b7",
   "metadata": {},
   "outputs": [
    {
     "data": {
      "image/png": "[encoded data removed]",
      "text/plain": [
       "<Figure size 1080x360 with 2 Axes>"
      ]
     },
     "metadata": {
      "needs_background": "light"
     },
     "output_type": "display_data"
    },
    {
     "name": "stdout",
     "output_type": "stream",
     "text": [
      "For n_clusters = 4, The average silhouette_score is : 0.055\n"
     ]
    }
   ],
   "source": [
    "X = groomTFVects.toarray()\n",
    "plotSilhouette(4, X)"
   ]
  },
  {
   "cell_type": "code",
   "execution_count": null,
   "id": "598ea8ae",
   "metadata": {},
   "outputs": [],
   "source": []
  },
  {
   "cell_type": "code",
   "execution_count": 150,
   "id": "16af3887",
   "metadata": {},
   "outputs": [
    {
     "data": {
      "text/plain": [
       "'boy'"
      ]
     },
     "execution_count": 150,
     "metadata": {},
     "output_type": "execute_result"
    }
   ],
   "source": [
    "#Similar parameters to before, but stricter max df and no max num occurrences\n",
    "groomTFVectorizer = sklearn.feature_extraction.text.TfidfVectorizer(max_df=.5, min_df=1, stop_words='english', norm='l2')\n",
    "groomTFVects = groomTFVectorizer.fit_transform(grooms_wanted)\n",
    "groomTFVectorizer.vocabulary_.get('sikh', 'boy')"
   ]
  },
  {
   "cell_type": "code",
   "execution_count": 190,
   "id": "432487ee",
   "metadata": {},
   "outputs": [],
   "source": [
    "targetDF = grooms_wanted['text']\n",
    "#textColumn = 'text'\n",
    "numCategories = 2"
   ]
  },
  {
   "cell_type": "code",
   "execution_count": 191,
   "id": "dbe17d98",
   "metadata": {},
   "outputs": [],
   "source": [
    "exampleTFVectorizer = sklearn.feature_extraction.text.TfidfVectorizer(max_df=.5, max_features=10000, min_df=1, stop_words='english', norm='l2')\n",
    "\n",
    "exampleTFVects = exampleTFVectorizer.fit_transform(grooms_wanted['text'])"
   ]
  },
  {
   "cell_type": "code",
   "execution_count": 192,
   "id": "0509f5cc",
   "metadata": {},
   "outputs": [
    {
     "data": {
      "text/plain": [
       "KMeans(n_clusters=2)"
      ]
     },
     "execution_count": 192,
     "metadata": {},
     "output_type": "execute_result"
    }
   ],
   "source": [
    "\n",
    "exampleKM = sklearn.cluster.KMeans(n_clusters = numCategories, init='k-means++')\n",
    "exampleKM.fit(exampleTFVects)"
   ]
  },
  {
   "cell_type": "code",
   "execution_count": 193,
   "id": "59da575b",
   "metadata": {},
   "outputs": [],
   "source": [
    "examplePCA = sklearn.decomposition.PCA(n_components = 2).fit(exampleTFVects.toarray())\n",
    "reducedPCA_data = examplePCA.transform(exampleTFVects.toarray())\n",
    "\n",
    "colors = list(plt.cm.rainbow(np.linspace(0,1, numCategories)))\n",
    "colors_p = [colors[l] for l in exampleKM.labels_]"
   ]
  },
  {
   "cell_type": "code",
   "execution_count": 155,
   "id": "f1ad3993",
   "metadata": {},
   "outputs": [
    {
     "data": {
      "image/png": "[encoded data removed]",
      "text/plain": [
       "<Figure size 432x288 with 1 Axes>"
      ]
     },
     "metadata": {},
     "output_type": "display_data"
    }
   ],
   "source": [
    "fig = plt.figure(1)\n",
    "ax = fig.add_subplot(111)\n",
    "ax.set_frame_on(False)\n",
    "plt.scatter(reducedPCA_data[:, 0], reducedPCA_data[:, 1], color = colors_p, alpha = 0.5)\n",
    "plt.xticks(())\n",
    "plt.yticks(())\n",
    "plt.title('Predicted Clusters\\n k = {}'.format(numCategories))\n",
    "plt.show()"
   ]
  },
  {
   "cell_type": "markdown",
   "id": "aeade71a",
   "metadata": {},
   "source": [
    "## <font color=\"red\">*Exercise 2*</font>\n",
    "\n",
    "<font color=\"red\">Construct cells immediately below this that hierarchically cluster your documents using two approaches, and visualize them with a tree. Interrogate the recursive cluster contents in terms of both documents and closenesses. What does this nested cluster structure reveal about the organization of documents in your sampled corpora? Moreover, if they do worse than kmeans (as above), why do you think this is the case (hint: using metrics if you have ground truth or silhouette if you do not)? \n",
    "\n",
    "<font color=\"red\">***Stretch***: Attempt using different distances into your clustering algorithms. (How) do they change the arrangement of clusters?\n"
   ]
  },
  {
   "cell_type": "markdown",
   "id": "09cae9ee",
   "metadata": {},
   "source": [
    "<font color=\"green\"> Hierarchical clustering does pretty well, however owing to the large size of my data, I do not do it for the entire dataset and only a small subset of it (1000 ads not randomly sampled). However, I believe it could produce similar results as clustering even on the whole data because intuitively looking at the above clusters and with my knowledge of the social game, there are certain topics such as caste which could be overarching, and then within each group, descriptions regarding education, physical attributes, so on and so forth could vary an dheirarchical clustering could provide very interesting insights in such a case. </font>"
   ]
  },
  {
   "cell_type": "code",
   "execution_count": 5,
   "id": "5b1d6138",
   "metadata": {},
   "outputs": [
    {
     "data": {
      "text/plain": [
       "matrix([[0., 0., 0., ..., 0., 0., 0.],\n",
       "        [0., 0., 0., ..., 0., 0., 0.],\n",
       "        [0., 0., 0., ..., 0., 0., 0.],\n",
       "        ...,\n",
       "        [0., 0., 0., ..., 0., 0., 0.],\n",
       "        [0., 0., 0., ..., 0., 0., 0.],\n",
       "        [0., 0., 0., ..., 0., 0., 0.]])"
      ]
     },
     "execution_count": 5,
     "metadata": {},
     "output_type": "execute_result"
    }
   ],
   "source": [
    "groomTFVects[:100].todense()"
   ]
  },
  {
   "cell_type": "code",
   "execution_count": 6,
   "id": "95a0edcf",
   "metadata": {},
   "outputs": [
    {
     "name": "stderr",
     "output_type": "stream",
     "text": [
      "/Users/pranathiiyer/opt/anaconda3/lib/python3.8/site-packages/scipy/sparse/_index.py:125: SparseEfficiencyWarning: Changing the sparsity structure of a csr_matrix is expensive. lil_matrix is more efficient.\n",
      "  self._set_arrayXarray(i, j, x)\n"
     ]
    }
   ],
   "source": [
    "groomCoocMat = groomTFVects * groomTFVects.T\n",
    "\n",
    "groomCoocMat.setdiag(0)"
   ]
  },
  {
   "cell_type": "code",
   "execution_count": 7,
   "id": "a1fa4805",
   "metadata": {},
   "outputs": [],
   "source": [
    "subCoocMat = groomCoocMat[:100]"
   ]
  },
  {
   "cell_type": "code",
   "execution_count": 8,
   "id": "5db927ee",
   "metadata": {},
   "outputs": [
    {
     "data": {
      "text/plain": [
       "array([[28.        , 82.        ,  1.41421356,  2.        ],\n",
       "       [32.        , 86.        ,  1.41421356,  2.        ],\n",
       "       [ 5.        , 59.        ,  1.41421356,  2.        ],\n",
       "       [ 7.        , 61.        ,  1.41421356,  2.        ],\n",
       "       [26.        , 80.        ,  1.41421356,  2.        ],\n",
       "       [45.        , 99.        ,  1.41421356,  2.        ],\n",
       "       [42.        , 96.        ,  1.41421356,  2.        ],\n",
       "       [31.        , 85.        ,  1.41421356,  2.        ],\n",
       "       [44.        , 98.        ,  1.41421356,  2.        ],\n",
       "       [ 1.        , 55.        ,  1.41421356,  2.        ]])"
      ]
     },
     "execution_count": 8,
     "metadata": {},
     "output_type": "execute_result"
    }
   ],
   "source": [
    "linkage_matrix = scipy.cluster.hierarchy.ward(subCoocMat.toarray())\n",
    "linkage_matrix[:10]"
   ]
  },
  {
   "cell_type": "code",
   "execution_count": 9,
   "id": "deb8e3c1",
   "metadata": {},
   "outputs": [
    {
     "data": {
      "image/png": "[encoded data removed]",
      "text/plain": [
       "<Figure size 432x288 with 1 Axes>"
      ]
     },
     "metadata": {
      "needs_background": "light"
     },
     "output_type": "display_data"
    }
   ],
   "source": [
    "dendDat = scipy.cluster.hierarchy.dendrogram(linkage_matrix, get_leaves=True)"
   ]
  },
  {
   "cell_type": "code",
   "execution_count": 10,
   "id": "7a4cc2f2",
   "metadata": {},
   "outputs": [
    {
     "data": {
      "image/png": "[encoded data removed]",
      "text/plain": [
       "<Figure size 432x288 with 1 Axes>"
      ]
     },
     "metadata": {
      "needs_background": "light"
     },
     "output_type": "display_data"
    }
   ],
   "source": [
    "dendrogramDat = scipy.cluster.hierarchy.dendrogram(linkage_matrix, p=4, truncate_mode='level', get_leaves=True)"
   ]
  },
  {
   "cell_type": "code",
   "execution_count": 11,
   "id": "486e54eb",
   "metadata": {},
   "outputs": [
    {
     "data": {
      "text/plain": [
       "array([1, 2, 2, 2, 2, 3, 3, 3, 3, 3, 3, 3, 3, 3, 3, 3, 3, 3, 3, 4, 4, 4,\n",
       "       4, 4, 4, 4, 4, 4, 4, 4, 4, 4, 4, 4, 4, 4, 4, 4, 4, 4, 4, 4, 4, 4,\n",
       "       2, 2, 2, 2, 2, 2, 2, 2, 2, 2, 1, 2, 2, 2, 2, 3, 3, 3, 3, 3, 3, 3,\n",
       "       3, 3, 3, 3, 3, 3, 3, 4, 4, 4, 4, 4, 4, 4, 4, 4, 4, 4, 4, 4, 4, 4,\n",
       "       4, 4, 4, 4, 4, 4, 4, 4, 4, 4, 2, 2], dtype=int32)"
      ]
     },
     "execution_count": 11,
     "metadata": {},
     "output_type": "execute_result"
    }
   ],
   "source": [
    "hierarchicalClusters = scipy.cluster.hierarchy.fcluster(linkage_matrix, 4, 'maxclust')\n",
    "hierarchicalClusters"
   ]
  },
  {
   "cell_type": "code",
   "execution_count": 16,
   "id": "bf08b8b2",
   "metadata": {},
   "outputs": [
    {
     "name": "stdout",
     "output_type": "stream",
     "text": [
      "For our complete clusters:\n",
      "Homogeneity: 0.231\n",
      "Completeness: 1.000\n",
      "V-measure: 0.376\n",
      "Adjusted Rand Score: 0.011\n"
     ]
    }
   ],
   "source": [
    "linkage_matrix_full = scipy.cluster.hierarchy.ward(groomCoocMat[:1000].toarray())\n",
    "hierarchicalClusters_full = scipy.cluster.hierarchy.fcluster(linkage_matrix_full, 4, 'maxclust')\n",
    "print(\"For our complete clusters:\")\n",
    "print(\"Homogeneity: {:0.3f}\".format(sklearn.metrics.homogeneity_score(grooms_wanted['text'][:1000], hierarchicalClusters_full)))\n",
    "print(\"Completeness: {:0.3f}\".format(sklearn.metrics.completeness_score(grooms_wanted['text'][:1000], hierarchicalClusters_full)))\n",
    "print(\"V-measure: {:0.3f}\".format(sklearn.metrics.v_measure_score(grooms_wanted['text'][:1000], hierarchicalClusters_full)))\n",
    "print(\"Adjusted Rand Score: {:0.3f}\".format(sklearn.metrics.adjusted_rand_score(grooms_wanted['text'][:1000], hierarchicalClusters_full)))"
   ]
  },
  {
   "cell_type": "markdown",
   "id": "9a9715a6",
   "metadata": {},
   "source": [
    "## <font color=\"red\">*Exercise 3*</font>\n",
    "\n",
    "<font color=\"red\">Construct cells immediately below this that topic model documents related to your anticipated final project. Interrogate and visually plot (e.g., as a bar graph?) the topic-word loadings and the document-topic loadings. What does this topic structure reveal about the distribution of contents across your documents? Systematically vary the $\\alpha$, $\\eta$, and topic number of the model for your text and describe in detail whether and how these changes led to distinctive outcomes, visible to you as analyst.  \n",
    "\n",
    "<font color=\"red\">**Stretch**: Cluster your documents, but instead of using words alone, use their topic loadings as an additional set of features. Do these topic loadings increase the apparent semantic coherence of your clusters?</font> "
   ]
  },
  {
   "cell_type": "markdown",
   "id": "58b3ee49",
   "metadata": {},
   "source": [
    "<font color=\"green\"> Topic model surprisingly indicates some coheisive results. However most topics have the same words and top words (jat, usa, canada, sikh, rajput--all similar to what we saw in computational linguistucs), and this does not change despite the change in alpha or eta i.e the distribution of these words. This means that all these documents could perhaps be explained with 2 or 3 topics which would emerge more clearly once the data is cleaned. Moreover, this model does not look at the entire data set either. In fact, the extremely high similarity between certain topics (as is visible in the bar graphs and other visuls actually means that given sucg a large corpus of ads representing 5-6 states in india, they all address the same issue and look for extremely similar characteristics in their propsective grooms which is amusing for a social landscape as diverse as india and says a lot about the social game and players. </font>"
   ]
  },
  {
   "cell_type": "code",
   "execution_count": 20,
   "id": "44e8d8c3",
   "metadata": {},
   "outputs": [],
   "source": [
    "grooms_wanted['tokenized_text'] = grooms_wanted['text'][:1000].apply(lambda x: lucem_illud.word_tokenize(str(x)))\n",
    "grooms_wanted['normalized_tokens'] = grooms_wanted['tokenized_text'].apply(lambda x: lucem_illud.normalizeTokens(str(x)))"
   ]
  },
  {
   "cell_type": "code",
   "execution_count": 21,
   "id": "0767ecc6",
   "metadata": {},
   "outputs": [
    {
     "data": {
      "text/html": [
       "<div>\n",
       "<style scoped>\n",
       "    .dataframe tbody tr th:only-of-type {\n",
       "        vertical-align: middle;\n",
       "    }\n",
       "\n",
       "    .dataframe tbody tr th {\n",
       "        vertical-align: top;\n",
       "    }\n",
       "\n",
       "    .dataframe thead th {\n",
       "        text-align: right;\n",
       "    }\n",
       "</style>\n",
       "<table border=\"1\" class=\"dataframe\">\n",
       "  <thead>\n",
       "    <tr style=\"text-align: right;\">\n",
       "      <th></th>\n",
       "      <th>Unnamed: 0</th>\n",
       "      <th>text</th>\n",
       "      <th>tokenized_text</th>\n",
       "      <th>normalized_tokens</th>\n",
       "    </tr>\n",
       "  </thead>\n",
       "  <tbody>\n",
       "    <tr>\n",
       "      <th>1</th>\n",
       "      <td>NOTE: Please do not send any images/photograph...</td>\n",
       "      <td>NOTE: Please do not send any images/photograph...</td>\n",
       "      <td>[NOTE, Please, do, not, send, any, images, pho...</td>\n",
       "      <td>[note, send, images, photographs, reply, forwa...</td>\n",
       "    </tr>\n",
       "    <tr>\n",
       "      <th>110</th>\n",
       "      <td>Alliance for beautiful Addharmi Ramdasia girl ...</td>\n",
       "      <td>Alliance for beautiful Addharmi Ramdasia girl ...</td>\n",
       "      <td>[Alliance, for, beautiful, Addharmi, Ramdasia,...</td>\n",
       "      <td>[alliance, beautiful, addharmi, ramdasia, girl...</td>\n",
       "    </tr>\n",
       "    <tr>\n",
       "      <th>217</th>\n",
       "      <td>Match for beautiful Garg girl 33/5'1 BAMS Resi...</td>\n",
       "      <td>Match for beautiful Garg girl 33/5'1 BAMS Resi...</td>\n",
       "      <td>[Match, for, beautiful, Garg, girl, 33/5'1, BA...</td>\n",
       "      <td>[match, beautiful, garg, girl, 33/5'1, bams, r...</td>\n",
       "    </tr>\n",
       "    <tr>\n",
       "      <th>324</th>\n",
       "      <td>Well established businessman/good serviceman f...</td>\n",
       "      <td>Well established businessman/good serviceman f...</td>\n",
       "      <td>[Well, established, businessman, good, service...</td>\n",
       "      <td>[established, businessman, good, serviceman, s...</td>\n",
       "    </tr>\n",
       "    <tr>\n",
       "      <th>431</th>\n",
       "      <td>Goyal MBBS girl   at 5:32 pm 5'1½ beautiful fa...</td>\n",
       "      <td>Goyal MBBS girl   at 5:32 pm 5'1½ beautiful fa...</td>\n",
       "      <td>[Goyal, MBBS, girl, at, 5:32, pm, 5'1½, beauti...</td>\n",
       "      <td>[goyal, mbbs, girl, 5:32, pm, 5'1½, beautiful,...</td>\n",
       "    </tr>\n",
       "    <tr>\n",
       "      <th>...</th>\n",
       "      <td>...</td>\n",
       "      <td>...</td>\n",
       "      <td>...</td>\n",
       "      <td>...</td>\n",
       "    </tr>\n",
       "    <tr>\n",
       "      <th>24653</th>\n",
       "      <td>Professionally qualified match for Jat Sikh gi...</td>\n",
       "      <td>Professionally qualified match for Jat Sikh gi...</td>\n",
       "      <td>NaN</td>\n",
       "      <td>[nan]</td>\n",
       "    </tr>\n",
       "    <tr>\n",
       "      <th>24760</th>\n",
       "      <td>US/Canada born or brought up accomplished cult...</td>\n",
       "      <td>US/Canada born or brought up accomplished cult...</td>\n",
       "      <td>NaN</td>\n",
       "      <td>[nan]</td>\n",
       "    </tr>\n",
       "    <tr>\n",
       "      <th>24860</th>\n",
       "      <td>ATS Prelude Derabassi new ready for occupation...</td>\n",
       "      <td>ATS Prelude Derabassi new ready for occupation...</td>\n",
       "      <td>NaN</td>\n",
       "      <td>[nan]</td>\n",
       "    </tr>\n",
       "    <tr>\n",
       "      <th>24967</th>\n",
       "      <td>Wanted educated match for 24/5'3 vegetarian Ca...</td>\n",
       "      <td>Wanted educated match for 24/5'3 vegetarian Ca...</td>\n",
       "      <td>NaN</td>\n",
       "      <td>[nan]</td>\n",
       "    </tr>\n",
       "    <tr>\n",
       "      <th>25074</th>\n",
       "      <td>Status PQM for beautiful slim girl BE MBA   11...</td>\n",
       "      <td>Status PQM for beautiful slim girl BE MBA   11...</td>\n",
       "      <td>NaN</td>\n",
       "      <td>[nan]</td>\n",
       "    </tr>\n",
       "  </tbody>\n",
       "</table>\n",
       "<p>233 rows × 4 columns</p>\n",
       "</div>"
      ],
      "text/plain": [
       "                                              Unnamed: 0  \\\n",
       "1      NOTE: Please do not send any images/photograph...   \n",
       "110    Alliance for beautiful Addharmi Ramdasia girl ...   \n",
       "217    Match for beautiful Garg girl 33/5'1 BAMS Resi...   \n",
       "324    Well established businessman/good serviceman f...   \n",
       "431    Goyal MBBS girl   at 5:32 pm 5'1½ beautiful fa...   \n",
       "...                                                  ...   \n",
       "24653  Professionally qualified match for Jat Sikh gi...   \n",
       "24760  US/Canada born or brought up accomplished cult...   \n",
       "24860  ATS Prelude Derabassi new ready for occupation...   \n",
       "24967  Wanted educated match for 24/5'3 vegetarian Ca...   \n",
       "25074  Status PQM for beautiful slim girl BE MBA   11...   \n",
       "\n",
       "                                                    text  \\\n",
       "1      NOTE: Please do not send any images/photograph...   \n",
       "110    Alliance for beautiful Addharmi Ramdasia girl ...   \n",
       "217    Match for beautiful Garg girl 33/5'1 BAMS Resi...   \n",
       "324    Well established businessman/good serviceman f...   \n",
       "431    Goyal MBBS girl   at 5:32 pm 5'1½ beautiful fa...   \n",
       "...                                                  ...   \n",
       "24653  Professionally qualified match for Jat Sikh gi...   \n",
       "24760  US/Canada born or brought up accomplished cult...   \n",
       "24860  ATS Prelude Derabassi new ready for occupation...   \n",
       "24967  Wanted educated match for 24/5'3 vegetarian Ca...   \n",
       "25074  Status PQM for beautiful slim girl BE MBA   11...   \n",
       "\n",
       "                                          tokenized_text  \\\n",
       "1      [NOTE, Please, do, not, send, any, images, pho...   \n",
       "110    [Alliance, for, beautiful, Addharmi, Ramdasia,...   \n",
       "217    [Match, for, beautiful, Garg, girl, 33/5'1, BA...   \n",
       "324    [Well, established, businessman, good, service...   \n",
       "431    [Goyal, MBBS, girl, at, 5:32, pm, 5'1½, beauti...   \n",
       "...                                                  ...   \n",
       "24653                                                NaN   \n",
       "24760                                                NaN   \n",
       "24860                                                NaN   \n",
       "24967                                                NaN   \n",
       "25074                                                NaN   \n",
       "\n",
       "                                       normalized_tokens  \n",
       "1      [note, send, images, photographs, reply, forwa...  \n",
       "110    [alliance, beautiful, addharmi, ramdasia, girl...  \n",
       "217    [match, beautiful, garg, girl, 33/5'1, bams, r...  \n",
       "324    [established, businessman, good, serviceman, s...  \n",
       "431    [goyal, mbbs, girl, 5:32, pm, 5'1½, beautiful,...  \n",
       "...                                                  ...  \n",
       "24653                                              [nan]  \n",
       "24760                                              [nan]  \n",
       "24860                                              [nan]  \n",
       "24967                                              [nan]  \n",
       "25074                                              [nan]  \n",
       "\n",
       "[233 rows x 4 columns]"
      ]
     },
     "execution_count": 21,
     "metadata": {},
     "output_type": "execute_result"
    }
   ],
   "source": [
    "grooms_wanted[::100]"
   ]
  },
  {
   "cell_type": "code",
   "execution_count": 23,
   "id": "bd74359f",
   "metadata": {},
   "outputs": [],
   "source": [
    "def dropMissing(wordLst, vocab):\n",
    "    return [w for w in wordLst if w in vocab]\n",
    "grooms_wanted['reduced_tokens'] = grooms_wanted['normalized_tokens'].apply(lambda x: dropMissing(x, groomTFVectorizer.vocabulary_.keys()))"
   ]
  },
  {
   "cell_type": "code",
   "execution_count": 24,
   "id": "8544f525",
   "metadata": {},
   "outputs": [],
   "source": [
    "dictionary = gensim.corpora.Dictionary(grooms_wanted['reduced_tokens'])"
   ]
  },
  {
   "cell_type": "code",
   "execution_count": 25,
   "id": "43f75af4",
   "metadata": {},
   "outputs": [],
   "source": [
    "corpus = [dictionary.doc2bow(text) for text in grooms_wanted['reduced_tokens']]"
   ]
  },
  {
   "cell_type": "code",
   "execution_count": 26,
   "id": "6d47f2c9",
   "metadata": {},
   "outputs": [],
   "source": [
    "gensim.corpora.MmCorpus.serialize('grooms.mm', corpus)\n",
    "senmm = gensim.corpora.MmCorpus('grooms.mm')"
   ]
  },
  {
   "cell_type": "code",
   "execution_count": 27,
   "id": "213b5b97",
   "metadata": {},
   "outputs": [
    {
     "name": "stderr",
     "output_type": "stream",
     "text": [
      "/Users/pranathiiyer/opt/anaconda3/lib/python3.8/site-packages/gensim/models/ldamodel.py:846: RuntimeWarning: divide by zero encountered in double_scalars\n",
      "  perwordbound = self.bound(chunk, subsample_ratio=subsample_ratio) / (subsample_ratio * corpus_words)\n"
     ]
    }
   ],
   "source": [
    "groomslda = gensim.models.ldamodel.LdaModel(corpus=senmm, id2word=dictionary, num_topics=10, alpha='auto', eta='auto')"
   ]
  },
  {
   "cell_type": "code",
   "execution_count": 36,
   "id": "9a1912b0",
   "metadata": {},
   "outputs": [
    {
     "name": "stdout",
     "output_type": "stream",
     "text": [
      "The topics of the text are[(3, 0.9157009)]\n"
     ]
    }
   ],
   "source": [
    "groom1Bow = dictionary.doc2bow(grooms_wanted['reduced_tokens'][1])\n",
    "grooms1lda = groomslda[groom1Bow]\n",
    "print(\"The topics of the text are{}\".format(grooms1lda))\n"
   ]
  },
  {
   "cell_type": "code",
   "execution_count": 37,
   "id": "404747f9",
   "metadata": {},
   "outputs": [],
   "source": [
    "ldaDF = pandas.DataFrame({\n",
    "        'topics' : [groomslda[dictionary.doc2bow(l)] for l in grooms_wanted['reduced_tokens']]\n",
    "    })"
   ]
  },
  {
   "cell_type": "code",
   "execution_count": 38,
   "id": "9922bc4b",
   "metadata": {},
   "outputs": [
    {
     "data": {
      "text/html": [
       "<div>\n",
       "<style scoped>\n",
       "    .dataframe tbody tr th:only-of-type {\n",
       "        vertical-align: middle;\n",
       "    }\n",
       "\n",
       "    .dataframe tbody tr th {\n",
       "        vertical-align: top;\n",
       "    }\n",
       "\n",
       "    .dataframe thead th {\n",
       "        text-align: right;\n",
       "    }\n",
       "</style>\n",
       "<table border=\"1\" class=\"dataframe\">\n",
       "  <thead>\n",
       "    <tr style=\"text-align: right;\">\n",
       "      <th></th>\n",
       "      <th>topics</th>\n",
       "      <th>topic_0</th>\n",
       "      <th>topic_1</th>\n",
       "      <th>topic_2</th>\n",
       "      <th>topic_3</th>\n",
       "      <th>topic_4</th>\n",
       "      <th>topic_5</th>\n",
       "      <th>topic_6</th>\n",
       "      <th>topic_7</th>\n",
       "      <th>topic_8</th>\n",
       "      <th>topic_9</th>\n",
       "    </tr>\n",
       "  </thead>\n",
       "  <tbody>\n",
       "    <tr>\n",
       "      <th>1</th>\n",
       "      <td>[(0, 0.037545707), (1, 0.03553053), (2, 0.0375...</td>\n",
       "      <td>0.037546</td>\n",
       "      <td>0.035531</td>\n",
       "      <td>0.037505</td>\n",
       "      <td>0.658716</td>\n",
       "      <td>0.040019</td>\n",
       "      <td>0.036862</td>\n",
       "      <td>0.040129</td>\n",
       "      <td>0.039006</td>\n",
       "      <td>0.038353</td>\n",
       "      <td>0.036335</td>\n",
       "    </tr>\n",
       "    <tr>\n",
       "      <th>101</th>\n",
       "      <td>[(3, 0.96523947)]</td>\n",
       "      <td>0.000000</td>\n",
       "      <td>0.000000</td>\n",
       "      <td>0.000000</td>\n",
       "      <td>0.965239</td>\n",
       "      <td>0.000000</td>\n",
       "      <td>0.000000</td>\n",
       "      <td>0.000000</td>\n",
       "      <td>0.000000</td>\n",
       "      <td>0.000000</td>\n",
       "      <td>0.000000</td>\n",
       "    </tr>\n",
       "    <tr>\n",
       "      <th>201</th>\n",
       "      <td>[(0, 0.011861648), (1, 0.011218446), (2, 0.011...</td>\n",
       "      <td>0.011862</td>\n",
       "      <td>0.011218</td>\n",
       "      <td>0.011836</td>\n",
       "      <td>0.012755</td>\n",
       "      <td>0.012625</td>\n",
       "      <td>0.011638</td>\n",
       "      <td>0.892173</td>\n",
       "      <td>0.012311</td>\n",
       "      <td>0.012109</td>\n",
       "      <td>0.011473</td>\n",
       "    </tr>\n",
       "    <tr>\n",
       "      <th>301</th>\n",
       "      <td>[(6, 0.93202883)]</td>\n",
       "      <td>0.000000</td>\n",
       "      <td>0.000000</td>\n",
       "      <td>0.000000</td>\n",
       "      <td>0.000000</td>\n",
       "      <td>0.000000</td>\n",
       "      <td>0.000000</td>\n",
       "      <td>0.932029</td>\n",
       "      <td>0.000000</td>\n",
       "      <td>0.000000</td>\n",
       "      <td>0.000000</td>\n",
       "    </tr>\n",
       "    <tr>\n",
       "      <th>401</th>\n",
       "      <td>[(6, 0.9579437)]</td>\n",
       "      <td>0.000000</td>\n",
       "      <td>0.000000</td>\n",
       "      <td>0.000000</td>\n",
       "      <td>0.000000</td>\n",
       "      <td>0.000000</td>\n",
       "      <td>0.000000</td>\n",
       "      <td>0.957944</td>\n",
       "      <td>0.000000</td>\n",
       "      <td>0.000000</td>\n",
       "      <td>0.000000</td>\n",
       "    </tr>\n",
       "    <tr>\n",
       "      <th>...</th>\n",
       "      <td>...</td>\n",
       "      <td>...</td>\n",
       "      <td>...</td>\n",
       "      <td>...</td>\n",
       "      <td>...</td>\n",
       "      <td>...</td>\n",
       "      <td>...</td>\n",
       "      <td>...</td>\n",
       "      <td>...</td>\n",
       "      <td>...</td>\n",
       "      <td>...</td>\n",
       "    </tr>\n",
       "    <tr>\n",
       "      <th>22801</th>\n",
       "      <td>[(0, 0.098403096), (1, 0.09317812), (2, 0.0982...</td>\n",
       "      <td>0.098403</td>\n",
       "      <td>0.093178</td>\n",
       "      <td>0.098266</td>\n",
       "      <td>0.105778</td>\n",
       "      <td>0.104762</td>\n",
       "      <td>0.096654</td>\n",
       "      <td>0.104994</td>\n",
       "      <td>0.102180</td>\n",
       "      <td>0.100500</td>\n",
       "      <td>0.095285</td>\n",
       "    </tr>\n",
       "    <tr>\n",
       "      <th>22901</th>\n",
       "      <td>[(0, 0.098403096), (1, 0.09317812), (2, 0.0982...</td>\n",
       "      <td>0.098403</td>\n",
       "      <td>0.093178</td>\n",
       "      <td>0.098266</td>\n",
       "      <td>0.105778</td>\n",
       "      <td>0.104762</td>\n",
       "      <td>0.096654</td>\n",
       "      <td>0.104994</td>\n",
       "      <td>0.102180</td>\n",
       "      <td>0.100500</td>\n",
       "      <td>0.095285</td>\n",
       "    </tr>\n",
       "    <tr>\n",
       "      <th>23001</th>\n",
       "      <td>[(0, 0.098403096), (1, 0.09317812), (2, 0.0982...</td>\n",
       "      <td>0.098403</td>\n",
       "      <td>0.093178</td>\n",
       "      <td>0.098266</td>\n",
       "      <td>0.105778</td>\n",
       "      <td>0.104762</td>\n",
       "      <td>0.096654</td>\n",
       "      <td>0.104994</td>\n",
       "      <td>0.102180</td>\n",
       "      <td>0.100500</td>\n",
       "      <td>0.095285</td>\n",
       "    </tr>\n",
       "    <tr>\n",
       "      <th>23101</th>\n",
       "      <td>[(0, 0.098403096), (1, 0.09317812), (2, 0.0982...</td>\n",
       "      <td>0.098403</td>\n",
       "      <td>0.093178</td>\n",
       "      <td>0.098266</td>\n",
       "      <td>0.105778</td>\n",
       "      <td>0.104762</td>\n",
       "      <td>0.096654</td>\n",
       "      <td>0.104994</td>\n",
       "      <td>0.102180</td>\n",
       "      <td>0.100500</td>\n",
       "      <td>0.095285</td>\n",
       "    </tr>\n",
       "    <tr>\n",
       "      <th>23201</th>\n",
       "      <td>[(0, 0.098403096), (1, 0.09317812), (2, 0.0982...</td>\n",
       "      <td>0.098403</td>\n",
       "      <td>0.093178</td>\n",
       "      <td>0.098266</td>\n",
       "      <td>0.105778</td>\n",
       "      <td>0.104762</td>\n",
       "      <td>0.096654</td>\n",
       "      <td>0.104994</td>\n",
       "      <td>0.102180</td>\n",
       "      <td>0.100500</td>\n",
       "      <td>0.095285</td>\n",
       "    </tr>\n",
       "  </tbody>\n",
       "</table>\n",
       "<p>233 rows × 11 columns</p>\n",
       "</div>"
      ],
      "text/plain": [
       "                                                  topics   topic_0   topic_1  \\\n",
       "1      [(0, 0.037545707), (1, 0.03553053), (2, 0.0375...  0.037546  0.035531   \n",
       "101                                    [(3, 0.96523947)]  0.000000  0.000000   \n",
       "201    [(0, 0.011861648), (1, 0.011218446), (2, 0.011...  0.011862  0.011218   \n",
       "301                                    [(6, 0.93202883)]  0.000000  0.000000   \n",
       "401                                     [(6, 0.9579437)]  0.000000  0.000000   \n",
       "...                                                  ...       ...       ...   \n",
       "22801  [(0, 0.098403096), (1, 0.09317812), (2, 0.0982...  0.098403  0.093178   \n",
       "22901  [(0, 0.098403096), (1, 0.09317812), (2, 0.0982...  0.098403  0.093178   \n",
       "23001  [(0, 0.098403096), (1, 0.09317812), (2, 0.0982...  0.098403  0.093178   \n",
       "23101  [(0, 0.098403096), (1, 0.09317812), (2, 0.0982...  0.098403  0.093178   \n",
       "23201  [(0, 0.098403096), (1, 0.09317812), (2, 0.0982...  0.098403  0.093178   \n",
       "\n",
       "        topic_2   topic_3   topic_4   topic_5   topic_6   topic_7   topic_8  \\\n",
       "1      0.037505  0.658716  0.040019  0.036862  0.040129  0.039006  0.038353   \n",
       "101    0.000000  0.965239  0.000000  0.000000  0.000000  0.000000  0.000000   \n",
       "201    0.011836  0.012755  0.012625  0.011638  0.892173  0.012311  0.012109   \n",
       "301    0.000000  0.000000  0.000000  0.000000  0.932029  0.000000  0.000000   \n",
       "401    0.000000  0.000000  0.000000  0.000000  0.957944  0.000000  0.000000   \n",
       "...         ...       ...       ...       ...       ...       ...       ...   \n",
       "22801  0.098266  0.105778  0.104762  0.096654  0.104994  0.102180  0.100500   \n",
       "22901  0.098266  0.105778  0.104762  0.096654  0.104994  0.102180  0.100500   \n",
       "23001  0.098266  0.105778  0.104762  0.096654  0.104994  0.102180  0.100500   \n",
       "23101  0.098266  0.105778  0.104762  0.096654  0.104994  0.102180  0.100500   \n",
       "23201  0.098266  0.105778  0.104762  0.096654  0.104994  0.102180  0.100500   \n",
       "\n",
       "        topic_9  \n",
       "1      0.036335  \n",
       "101    0.000000  \n",
       "201    0.011473  \n",
       "301    0.000000  \n",
       "401    0.000000  \n",
       "...         ...  \n",
       "22801  0.095285  \n",
       "22901  0.095285  \n",
       "23001  0.095285  \n",
       "23101  0.095285  \n",
       "23201  0.095285  \n",
       "\n",
       "[233 rows x 11 columns]"
      ]
     },
     "execution_count": 38,
     "metadata": {},
     "output_type": "execute_result"
    }
   ],
   "source": [
    "\n",
    "topicsProbDict = {i : [0] * len(ldaDF) for i in range(groomslda.num_topics)}\n",
    "\n",
    "\n",
    "for index, topicTuples in enumerate(ldaDF['topics']):\n",
    "    for topicNum, prob in topicTuples:\n",
    "        topicsProbDict[topicNum][index] = prob\n",
    "\n",
    "\n",
    "for topicNum in range(groomslda.num_topics):\n",
    "    ldaDF['topic_{}'.format(topicNum)] = topicsProbDict[topicNum]\n",
    "\n",
    "ldaDF[1::100]"
   ]
  },
  {
   "cell_type": "code",
   "execution_count": 43,
   "id": "b792289d",
   "metadata": {},
   "outputs": [
    {
     "data": {
      "text/html": [
       "<div>\n",
       "<style scoped>\n",
       "    .dataframe tbody tr th:only-of-type {\n",
       "        vertical-align: middle;\n",
       "    }\n",
       "\n",
       "    .dataframe tbody tr th {\n",
       "        vertical-align: top;\n",
       "    }\n",
       "\n",
       "    .dataframe thead th {\n",
       "        text-align: right;\n",
       "    }\n",
       "</style>\n",
       "<table border=\"1\" class=\"dataframe\">\n",
       "  <thead>\n",
       "    <tr style=\"text-align: right;\">\n",
       "      <th></th>\n",
       "      <th>topic_0</th>\n",
       "      <th>topic_1</th>\n",
       "      <th>topic_2</th>\n",
       "      <th>topic_3</th>\n",
       "      <th>topic_4</th>\n",
       "      <th>topic_5</th>\n",
       "      <th>topic_6</th>\n",
       "      <th>topic_7</th>\n",
       "      <th>topic_8</th>\n",
       "      <th>topic_9</th>\n",
       "    </tr>\n",
       "  </thead>\n",
       "  <tbody>\n",
       "    <tr>\n",
       "      <th>0</th>\n",
       "      <td>0.000000</td>\n",
       "      <td>0.000000</td>\n",
       "      <td>0.000000</td>\n",
       "      <td>0.915700</td>\n",
       "      <td>0.000000</td>\n",
       "      <td>0.000000</td>\n",
       "      <td>0.000000</td>\n",
       "      <td>0.000000</td>\n",
       "      <td>0.000000</td>\n",
       "      <td>0.000000</td>\n",
       "    </tr>\n",
       "    <tr>\n",
       "      <th>1</th>\n",
       "      <td>0.037546</td>\n",
       "      <td>0.035531</td>\n",
       "      <td>0.037505</td>\n",
       "      <td>0.658716</td>\n",
       "      <td>0.040019</td>\n",
       "      <td>0.036862</td>\n",
       "      <td>0.040129</td>\n",
       "      <td>0.039006</td>\n",
       "      <td>0.038353</td>\n",
       "      <td>0.036335</td>\n",
       "    </tr>\n",
       "    <tr>\n",
       "      <th>2</th>\n",
       "      <td>0.037538</td>\n",
       "      <td>0.035525</td>\n",
       "      <td>0.655693</td>\n",
       "      <td>0.040498</td>\n",
       "      <td>0.040042</td>\n",
       "      <td>0.036872</td>\n",
       "      <td>0.040112</td>\n",
       "      <td>0.039010</td>\n",
       "      <td>0.038356</td>\n",
       "      <td>0.036354</td>\n",
       "    </tr>\n",
       "    <tr>\n",
       "      <th>3</th>\n",
       "      <td>0.018734</td>\n",
       "      <td>0.017744</td>\n",
       "      <td>0.018711</td>\n",
       "      <td>0.020186</td>\n",
       "      <td>0.829429</td>\n",
       "      <td>0.018404</td>\n",
       "      <td>0.020017</td>\n",
       "      <td>0.019481</td>\n",
       "      <td>0.019142</td>\n",
       "      <td>0.018154</td>\n",
       "    </tr>\n",
       "    <tr>\n",
       "      <th>4</th>\n",
       "      <td>0.013121</td>\n",
       "      <td>0.012418</td>\n",
       "      <td>0.013106</td>\n",
       "      <td>0.014136</td>\n",
       "      <td>0.013987</td>\n",
       "      <td>0.012887</td>\n",
       "      <td>0.322269</td>\n",
       "      <td>0.013642</td>\n",
       "      <td>0.013404</td>\n",
       "      <td>0.571030</td>\n",
       "    </tr>\n",
       "    <tr>\n",
       "      <th>5</th>\n",
       "      <td>0.000000</td>\n",
       "      <td>0.000000</td>\n",
       "      <td>0.000000</td>\n",
       "      <td>0.937062</td>\n",
       "      <td>0.061045</td>\n",
       "      <td>0.000000</td>\n",
       "      <td>0.000000</td>\n",
       "      <td>0.000000</td>\n",
       "      <td>0.000000</td>\n",
       "      <td>0.000000</td>\n",
       "    </tr>\n",
       "    <tr>\n",
       "      <th>6</th>\n",
       "      <td>0.000000</td>\n",
       "      <td>0.000000</td>\n",
       "      <td>0.000000</td>\n",
       "      <td>0.932994</td>\n",
       "      <td>0.065103</td>\n",
       "      <td>0.000000</td>\n",
       "      <td>0.000000</td>\n",
       "      <td>0.000000</td>\n",
       "      <td>0.000000</td>\n",
       "      <td>0.000000</td>\n",
       "    </tr>\n",
       "    <tr>\n",
       "      <th>7</th>\n",
       "      <td>0.000000</td>\n",
       "      <td>0.000000</td>\n",
       "      <td>0.000000</td>\n",
       "      <td>0.912357</td>\n",
       "      <td>0.085729</td>\n",
       "      <td>0.000000</td>\n",
       "      <td>0.000000</td>\n",
       "      <td>0.000000</td>\n",
       "      <td>0.000000</td>\n",
       "      <td>0.000000</td>\n",
       "    </tr>\n",
       "    <tr>\n",
       "      <th>8</th>\n",
       "      <td>0.000000</td>\n",
       "      <td>0.000000</td>\n",
       "      <td>0.000000</td>\n",
       "      <td>0.947038</td>\n",
       "      <td>0.050977</td>\n",
       "      <td>0.000000</td>\n",
       "      <td>0.000000</td>\n",
       "      <td>0.000000</td>\n",
       "      <td>0.000000</td>\n",
       "      <td>0.000000</td>\n",
       "    </tr>\n",
       "    <tr>\n",
       "      <th>9</th>\n",
       "      <td>0.000000</td>\n",
       "      <td>0.000000</td>\n",
       "      <td>0.000000</td>\n",
       "      <td>0.949993</td>\n",
       "      <td>0.047956</td>\n",
       "      <td>0.000000</td>\n",
       "      <td>0.000000</td>\n",
       "      <td>0.000000</td>\n",
       "      <td>0.000000</td>\n",
       "      <td>0.000000</td>\n",
       "    </tr>\n",
       "  </tbody>\n",
       "</table>\n",
       "</div>"
      ],
      "text/plain": [
       "    topic_0   topic_1   topic_2   topic_3   topic_4   topic_5   topic_6  \\\n",
       "0  0.000000  0.000000  0.000000  0.915700  0.000000  0.000000  0.000000   \n",
       "1  0.037546  0.035531  0.037505  0.658716  0.040019  0.036862  0.040129   \n",
       "2  0.037538  0.035525  0.655693  0.040498  0.040042  0.036872  0.040112   \n",
       "3  0.018734  0.017744  0.018711  0.020186  0.829429  0.018404  0.020017   \n",
       "4  0.013121  0.012418  0.013106  0.014136  0.013987  0.012887  0.322269   \n",
       "5  0.000000  0.000000  0.000000  0.937062  0.061045  0.000000  0.000000   \n",
       "6  0.000000  0.000000  0.000000  0.932994  0.065103  0.000000  0.000000   \n",
       "7  0.000000  0.000000  0.000000  0.912357  0.085729  0.000000  0.000000   \n",
       "8  0.000000  0.000000  0.000000  0.947038  0.050977  0.000000  0.000000   \n",
       "9  0.000000  0.000000  0.000000  0.949993  0.047956  0.000000  0.000000   \n",
       "\n",
       "    topic_7   topic_8   topic_9  \n",
       "0  0.000000  0.000000  0.000000  \n",
       "1  0.039006  0.038353  0.036335  \n",
       "2  0.039010  0.038356  0.036354  \n",
       "3  0.019481  0.019142  0.018154  \n",
       "4  0.013642  0.013404  0.571030  \n",
       "5  0.000000  0.000000  0.000000  \n",
       "6  0.000000  0.000000  0.000000  \n",
       "7  0.000000  0.000000  0.000000  \n",
       "8  0.000000  0.000000  0.000000  \n",
       "9  0.000000  0.000000  0.000000  "
      ]
     },
     "execution_count": 43,
     "metadata": {},
     "output_type": "execute_result"
    }
   ],
   "source": [
    "ldaDFV = ldaDF[:10][['topic_%d' %x for x in range(10)]]\n",
    "ldaDFVisN = ldaDF[:10]\n",
    "ldaDFVis = ldaDFV.to_numpy()\n",
    "ldaDFVisNames = ldaDFVisN.to_numpy()\n",
    "ldaDFV"
   ]
  },
  {
   "cell_type": "code",
   "execution_count": 56,
   "id": "08d115f4",
   "metadata": {},
   "outputs": [
    {
     "data": {
      "image/png": "[encoded data removed]",
      "text/plain": [
       "<Figure size 432x288 with 1 Axes>"
      ]
     },
     "metadata": {
      "needs_background": "light"
     },
     "output_type": "display_data"
    }
   ],
   "source": [
    "N = 10\n",
    "ind = np.arange(N)\n",
    "K = groomslda.num_topics  # N documents, K topics\n",
    "ind = np.arange(N)  # the x-axis locations for the novels\n",
    "width = 0.5  # the width of the bars\n",
    "plots = []\n",
    "height_cumulative = np.zeros(N)\n",
    "\n",
    "for k in range(K):\n",
    "    color = plt.cm.coolwarm(k/K, 1)\n",
    "    if k == 0:\n",
    "        p = plt.bar(ind, ldaDFVis[:, k], width, color=color)\n",
    "    else:\n",
    "        p = plt.bar(ind, ldaDFVis[:, k], width, bottom=height_cumulative, color=color)\n",
    "    height_cumulative += ldaDFVis[:, k]\n",
    "    plots.append(p)\n",
    "    \n",
    "\n",
    "plt.ylim((0, 1))  # proportions sum to 1, so the height of the stacked bars is 1\n",
    "plt.ylabel('Topics')\n",
    "\n",
    "plt.title('Topics in Matrimonial Ads')\n",
    "plt.xticks(ind+width/2, ind,rotation='vertical')\n",
    "\n",
    "plt.yticks(np.arange(0, 1, 10))\n",
    "topic_labels = ['Topic #{}'.format(k) for k in range(K)]\n",
    "plt.legend([p[0] for p in plots], topic_labels, loc='center left', frameon=True,  bbox_to_anchor = (1, .5))\n",
    "\n",
    "plt.show()"
   ]
  },
  {
   "cell_type": "code",
   "execution_count": 58,
   "id": "0c64e7ae",
   "metadata": {},
   "outputs": [
    {
     "data": {
      "image/png": "[encoded data removed]",
      "text/plain": [
       "<Figure size 432x288 with 2 Axes>"
      ]
     },
     "metadata": {
      "needs_background": "light"
     },
     "output_type": "display_data"
    }
   ],
   "source": [
    "plt.pcolor(ldaDFVis, norm=None, cmap='Blues')\n",
    "plt.yticks(np.arange(ldaDFVis.shape[0])+0.5, ind);\n",
    "plt.xticks(np.arange(ldaDFVis.shape[1])+0.5, topic_labels);\n",
    "\n",
    "# flip the y-axis so the texts are in the order we anticipate (Austen first, then Brontë)\n",
    "plt.gca().invert_yaxis()\n",
    "\n",
    "# rotate the ticks on the x-axis\n",
    "plt.xticks(rotation=90)\n",
    "\n",
    "# add a legend\n",
    "plt.colorbar(cmap='Blues')\n",
    "plt.tight_layout()  # fixes margins\n",
    "plt.show()"
   ]
  },
  {
   "cell_type": "code",
   "execution_count": 59,
   "id": "30b5d516",
   "metadata": {},
   "outputs": [
    {
     "data": {
      "text/plain": [
       "[('jat', 0.00856424),\n",
       " ('usa', 0.0075958353),\n",
       " ('daughter', 0.0074588046),\n",
       " ('rajput', 0.0055302237),\n",
       " ('mtech', 0.005241524),\n",
       " ('canada', 0.0047544334),\n",
       " ('pr', 0.004751398),\n",
       " ('parents', 0.004404326),\n",
       " ('mobile', 0.004056581),\n",
       " ('delhi', 0.004008743)]"
      ]
     },
     "execution_count": 59,
     "metadata": {},
     "output_type": "execute_result"
    }
   ],
   "source": [
    "groomslda.show_topic(1)"
   ]
  },
  {
   "cell_type": "code",
   "execution_count": 60,
   "id": "1be5326a",
   "metadata": {},
   "outputs": [
    {
     "data": {
      "text/html": [
       "<div>\n",
       "<style scoped>\n",
       "    .dataframe tbody tr th:only-of-type {\n",
       "        vertical-align: middle;\n",
       "    }\n",
       "\n",
       "    .dataframe tbody tr th {\n",
       "        vertical-align: top;\n",
       "    }\n",
       "\n",
       "    .dataframe thead th {\n",
       "        text-align: right;\n",
       "    }\n",
       "</style>\n",
       "<table border=\"1\" class=\"dataframe\">\n",
       "  <thead>\n",
       "    <tr style=\"text-align: right;\">\n",
       "      <th></th>\n",
       "      <th>Topic_0</th>\n",
       "      <th>Topic_1</th>\n",
       "      <th>Topic_2</th>\n",
       "      <th>Topic_3</th>\n",
       "      <th>Topic_4</th>\n",
       "      <th>Topic_5</th>\n",
       "      <th>Topic_6</th>\n",
       "      <th>Topic_7</th>\n",
       "      <th>Topic_8</th>\n",
       "      <th>Topic_9</th>\n",
       "    </tr>\n",
       "  </thead>\n",
       "  <tbody>\n",
       "    <tr>\n",
       "      <th>0</th>\n",
       "      <td>jat</td>\n",
       "      <td>jat</td>\n",
       "      <td>usa</td>\n",
       "      <td>jat</td>\n",
       "      <td>jat</td>\n",
       "      <td>usa</td>\n",
       "      <td>jat</td>\n",
       "      <td>usa</td>\n",
       "      <td>usa</td>\n",
       "      <td>jat</td>\n",
       "    </tr>\n",
       "    <tr>\n",
       "      <th>1</th>\n",
       "      <td>usa</td>\n",
       "      <td>usa</td>\n",
       "      <td>jat</td>\n",
       "      <td>usa</td>\n",
       "      <td>usa</td>\n",
       "      <td>jat</td>\n",
       "      <td>usa</td>\n",
       "      <td>jat</td>\n",
       "      <td>daughter</td>\n",
       "      <td>usa</td>\n",
       "    </tr>\n",
       "    <tr>\n",
       "      <th>2</th>\n",
       "      <td>rajput</td>\n",
       "      <td>daughter</td>\n",
       "      <td>pr</td>\n",
       "      <td>daughter</td>\n",
       "      <td>canada</td>\n",
       "      <td>daughter</td>\n",
       "      <td>pr</td>\n",
       "      <td>pr</td>\n",
       "      <td>jat</td>\n",
       "      <td>daughter</td>\n",
       "    </tr>\n",
       "    <tr>\n",
       "      <th>3</th>\n",
       "      <td>parents</td>\n",
       "      <td>rajput</td>\n",
       "      <td>rajput</td>\n",
       "      <td>canada</td>\n",
       "      <td>daughter</td>\n",
       "      <td>canada</td>\n",
       "      <td>rajput</td>\n",
       "      <td>daughter</td>\n",
       "      <td>pr</td>\n",
       "      <td>canada</td>\n",
       "    </tr>\n",
       "    <tr>\n",
       "      <th>4</th>\n",
       "      <td>daughter</td>\n",
       "      <td>mtech</td>\n",
       "      <td>daughter</td>\n",
       "      <td>mtech</td>\n",
       "      <td>mtech</td>\n",
       "      <td>rajput</td>\n",
       "      <td>daughter</td>\n",
       "      <td>canada</td>\n",
       "      <td>mtech</td>\n",
       "      <td>pr</td>\n",
       "    </tr>\n",
       "    <tr>\n",
       "      <th>5</th>\n",
       "      <td>delhi</td>\n",
       "      <td>canada</td>\n",
       "      <td>bsc</td>\n",
       "      <td>delhi</td>\n",
       "      <td>pr</td>\n",
       "      <td>pr</td>\n",
       "      <td>mtech</td>\n",
       "      <td>parents</td>\n",
       "      <td>canada</td>\n",
       "      <td>parents</td>\n",
       "    </tr>\n",
       "    <tr>\n",
       "      <th>6</th>\n",
       "      <td>businessman</td>\n",
       "      <td>pr</td>\n",
       "      <td>canada</td>\n",
       "      <td>pr</td>\n",
       "      <td>rajput</td>\n",
       "      <td>parents</td>\n",
       "      <td>mobile</td>\n",
       "      <td>rajput</td>\n",
       "      <td>mother</td>\n",
       "      <td>looking</td>\n",
       "    </tr>\n",
       "    <tr>\n",
       "      <th>7</th>\n",
       "      <td>mtech</td>\n",
       "      <td>parents</td>\n",
       "      <td>delhi</td>\n",
       "      <td>parents</td>\n",
       "      <td>graduate</td>\n",
       "      <td>c4</td>\n",
       "      <td>delhi</td>\n",
       "      <td>delhi</td>\n",
       "      <td>delhi</td>\n",
       "      <td>rajput</td>\n",
       "    </tr>\n",
       "    <tr>\n",
       "      <th>8</th>\n",
       "      <td>pr</td>\n",
       "      <td>mobile</td>\n",
       "      <td>mtech</td>\n",
       "      <td>bsc</td>\n",
       "      <td>india</td>\n",
       "      <td>bsc</td>\n",
       "      <td>ms</td>\n",
       "      <td>canadian</td>\n",
       "      <td>rajput</td>\n",
       "      <td>australian</td>\n",
       "    </tr>\n",
       "    <tr>\n",
       "      <th>9</th>\n",
       "      <td>handsome</td>\n",
       "      <td>delhi</td>\n",
       "      <td>pursuing</td>\n",
       "      <td>rajput</td>\n",
       "      <td>bsc</td>\n",
       "      <td>graduate</td>\n",
       "      <td>handsome</td>\n",
       "      <td>india</td>\n",
       "      <td>himachali</td>\n",
       "      <td>c4</td>\n",
       "    </tr>\n",
       "  </tbody>\n",
       "</table>\n",
       "</div>"
      ],
      "text/plain": [
       "       Topic_0   Topic_1   Topic_2   Topic_3   Topic_4   Topic_5   Topic_6  \\\n",
       "0          jat       jat       usa       jat       jat       usa       jat   \n",
       "1          usa       usa       jat       usa       usa       jat       usa   \n",
       "2       rajput  daughter        pr  daughter    canada  daughter        pr   \n",
       "3      parents    rajput    rajput    canada  daughter    canada    rajput   \n",
       "4     daughter     mtech  daughter     mtech     mtech    rajput  daughter   \n",
       "5        delhi    canada       bsc     delhi        pr        pr     mtech   \n",
       "6  businessman        pr    canada        pr    rajput   parents    mobile   \n",
       "7        mtech   parents     delhi   parents  graduate        c4     delhi   \n",
       "8           pr    mobile     mtech       bsc     india       bsc        ms   \n",
       "9     handsome     delhi  pursuing    rajput       bsc  graduate  handsome   \n",
       "\n",
       "    Topic_7    Topic_8     Topic_9  \n",
       "0       usa        usa         jat  \n",
       "1       jat   daughter         usa  \n",
       "2        pr        jat    daughter  \n",
       "3  daughter         pr      canada  \n",
       "4    canada      mtech          pr  \n",
       "5   parents     canada     parents  \n",
       "6    rajput     mother     looking  \n",
       "7     delhi      delhi      rajput  \n",
       "8  canadian     rajput  australian  \n",
       "9     india  himachali          c4  "
      ]
     },
     "execution_count": 60,
     "metadata": {},
     "output_type": "execute_result"
    }
   ],
   "source": [
    "topicsDict = {}\n",
    "for topicNum in range(groomslda.num_topics):\n",
    "    topicWords = [w for w, p in groomslda.show_topic(topicNum)]\n",
    "    topicsDict['Topic_{}'.format(topicNum)] = topicWords\n",
    "\n",
    "wordRanksDF = pandas.DataFrame(topicsDict)\n",
    "wordRanksDF"
   ]
  },
  {
   "cell_type": "code",
   "execution_count": 61,
   "id": "a11650c8",
   "metadata": {},
   "outputs": [
    {
     "data": {
      "text/plain": [
       "<Figure size 432x288 with 0 Axes>"
      ]
     },
     "metadata": {},
     "output_type": "display_data"
    },
    {
     "data": {
      "image/png": "[encoded data removed]",
      "text/plain": [
       "<Figure size 432x288 with 1 Axes>"
      ]
     },
     "metadata": {
      "needs_background": "light"
     },
     "output_type": "display_data"
    }
   ],
   "source": [
    "topic1_df = pandas.DataFrame(groomslda.show_topic(1, topn=50))\n",
    "plt.figure()\n",
    "topic1_df.plot.bar(legend = False)\n",
    "plt.title('Probability Distribution of Words, Topic 1')\n",
    "plt.show()"
   ]
  },
  {
   "cell_type": "code",
   "execution_count": 62,
   "id": "a260a942",
   "metadata": {},
   "outputs": [
    {
     "name": "stderr",
     "output_type": "stream",
     "text": [
      "/Users/pranathiiyer/opt/anaconda3/lib/python3.8/site-packages/gensim/models/ldamodel.py:846: RuntimeWarning: divide by zero encountered in double_scalars\n",
      "  perwordbound = self.bound(chunk, subsample_ratio=subsample_ratio) / (subsample_ratio * corpus_words)\n"
     ]
    }
   ],
   "source": [
    "groomslda1 = gensim.models.ldamodel.LdaModel(corpus=senmm, id2word=dictionary, num_topics=10, eta = 0.00001)\n",
    "groomslda2 = gensim.models.ldamodel.LdaModel(corpus=senmm, id2word=dictionary, num_topics=10, eta = 0.9)"
   ]
  },
  {
   "cell_type": "code",
   "execution_count": 63,
   "id": "36562867",
   "metadata": {},
   "outputs": [
    {
     "data": {
      "image/png": "[encoded data removed]",
      "text/plain": [
       "<Figure size 1296x504 with 2 Axes>"
      ]
     },
     "metadata": {
      "needs_background": "light"
     },
     "output_type": "display_data"
    }
   ],
   "source": [
    "topic11_df = pandas.DataFrame(groomslda1.show_topic(1, topn=50))\n",
    "topic21_df = pandas.DataFrame(groomslda2.show_topic(1, topn=50))\n",
    "\n",
    "fig, (ax1, ax2) = plt.subplots(1, 2)\n",
    "fig.set_size_inches(18, 7)\n",
    "topic11_df.plot.bar(legend = False, ax = ax1, title = '$\\eta$  = 0.00001')\n",
    "topic21_df.plot.bar(legend = False, ax = ax2, title = '$\\eta$  = 0.9')\n",
    "plt.show()"
   ]
  },
  {
   "cell_type": "code",
   "execution_count": 64,
   "id": "e2a9274a",
   "metadata": {},
   "outputs": [],
   "source": [
    "from gensim.models import HdpModel"
   ]
  },
  {
   "cell_type": "code",
   "execution_count": 65,
   "id": "06e02a54",
   "metadata": {},
   "outputs": [
    {
     "data": {
      "text/plain": [
       "[(0,\n",
       "  '0.018*jat + 0.012*usa + 0.011*daughter + 0.009*mtech + 0.008*rajput + 0.008*delhi + 0.008*pr + 0.007*parents + 0.007*canada + 0.007*mobile'),\n",
       " (1,\n",
       "  '0.021*jat + 0.019*usa + 0.011*canada + 0.010*daughter + 0.008*pr + 0.008*india + 0.007*canadian + 0.007*parents + 0.006*rajput + 0.006*respond'),\n",
       " (2,\n",
       "  '0.014*usa + 0.011*jat + 0.008*c4 + 0.007*daughter + 0.007*pr + 0.007*graduate + 0.007*rajput + 0.006*canada + 0.006*parents + 0.006*australian'),\n",
       " (3,\n",
       "  '0.010*graduate + 0.009*usa + 0.008*daughter + 0.007*manager + 0.007*jat + 0.007*c4 + 0.007*mob + 0.007*early + 0.007*company + 0.006*having'),\n",
       " (4,\n",
       "  '0.013*usa + 0.010*jat + 0.007*canada + 0.007*pursuing + 0.007*pr + 0.007*rajput + 0.006*australian + 0.006*bsc + 0.006*c4 + 0.006*india'),\n",
       " (5,\n",
       "  '0.012*jat + 0.011*usa + 0.010*daughter + 0.008*canadian + 0.007*pr + 0.006*canada + 0.006*india + 0.006*looking + 0.005*parents + 0.005*respond'),\n",
       " (6,\n",
       "  '0.009*usa + 0.006*pr + 0.005*australian + 0.005*diploma + 0.004*jat + 0.004*bsc + 0.004*pursuing + 0.004*parents + 0.003*canada + 0.003*c477028suitable'),\n",
       " (7,\n",
       "  '0.006*usa + 0.004*visa + 0.004*australian + 0.004*pr + 0.003*science + 0.003*diploma + 0.003*jat + 0.003*canada + 0.003*jamshedpur + 0.003*rajput'),\n",
       " (8,\n",
       "  '0.007*mpharma + 0.004*lpa + 0.004*businessman + 0.004*subject + 0.004*corporate + 0.003*service + 0.003*crore + 0.003*bams + 0.003*living + 0.003*panchkula'),\n",
       " (9,\n",
       "  '0.004*small + 0.004*old + 0.004*c483579bsuitable + 0.003*present + 0.003*sdo + 0.003*meter + 0.003*entrance + 0.003*panchkula + 0.003*maid + 0.003*organizational'),\n",
       " (10,\n",
       "  '0.004*jat + 0.004*tonkkashtriya + 0.003*himachali + 0.003*double + 0.003*pub + 0.003*invited + 0.003*c474317canadian + 0.003*usa + 0.003*smf + 0.003*son'),\n",
       " (11,\n",
       "  '0.005*tcs + 0.004*daughter + 0.004*a457148olprof + 0.004*melbourne + 0.004*chd + 0.003*c482892highly + 0.003*july + 0.003*ncr + 0.003*australian + 0.003*dental'),\n",
       " (12,\n",
       "  '0.004*hr + 0.004*newzealand + 0.003*doctors + 0.003*pr + 0.003*council + 0.003*bsim + 0.003*principal + 0.003*sidhuchahal + 0.003*serving + 0.003*c484961blooking'),\n",
       " (13,\n",
       "  '0.004*garg + 0.004*specialist + 0.003*sci + 0.003*usa + 0.003*sbi + 0.003*looking + 0.003*rent + 0.003*c474581medical + 0.003*includes + 0.003*sober'),\n",
       " (14,\n",
       "  '0.004*sidhuchahal + 0.004*c478802suitable + 0.004*c483997jat + 0.004*double + 0.004*c481657welleducated + 0.003*ut + 0.003*na467300suitable + 0.003*medico + 0.003*enclave + 0.003*address'),\n",
       " (15,\n",
       "  '0.004*measuring + 0.004*ut + 0.004*pr + 0.003*approved + 0.003*jet + 0.003*cbse + 0.003*c479744suitable + 0.003*c484959rajput + 0.003*fatehabad + 0.003*services'),\n",
       " (16,\n",
       "  '0.004*ranked + 0.004*80394suitable + 0.004*banking + 0.003*na464623suitable + 0.003*oriented + 0.003*salary + 0.003*himachali + 0.003*psu + 0.003*gotra + 0.003*equally'),\n",
       " (17,\n",
       "  '0.005*wwwgurunanakacademyorg + 0.004*classi + 0.004*amritsar + 0.003*c475816suitable + 0.003*llm + 0.003*week + 0.003*offer + 0.003*groom + 0.003*write + 0.003*meter'),\n",
       " (18,\n",
       "  '0.004*c462711qualified + 0.004*content + 0.004*c476524match + 0.003*usabased + 0.003*inquires + 0.003*natured + 0.003*laptop + 0.003*divorced + 0.003*village + 0.003*department'),\n",
       " (19,\n",
       "  '0.004*basement + 0.004*acc + 0.004*uppal + 0.004*barkhatri + 0.004*chandigarh + 0.004*sundayany + 0.003*gentlemen + 0.003*wwwgurunanakacademyorg + 0.003*handsome + 0.003*c475950professionally')]"
      ]
     },
     "execution_count": 65,
     "metadata": {},
     "output_type": "execute_result"
    }
   ],
   "source": [
    "hdpmodel = HdpModel(corpus=corpus, id2word=dictionary)\n",
    "hdpmodel.print_topics()"
   ]
  },
  {
   "cell_type": "markdown",
   "id": "13ba431f",
   "metadata": {},
   "source": []
  },
  {
   "cell_type": "code",
   "execution_count": null,
   "id": "53b75476",
   "metadata": {},
   "outputs": [],
   "source": []
  },
  {
   "cell_type": "code",
   "execution_count": null,
   "id": "14b37ed7",
   "metadata": {},
   "outputs": [],
   "source": []
  },
  {
   "cell_type": "code",
   "execution_count": null,
   "id": "a7a029f6",
   "metadata": {},
   "outputs": [],
   "source": []
  },
  {
   "cell_type": "code",
   "execution_count": null,
   "id": "d4ce2507",
   "metadata": {},
   "outputs": [],
   "source": []
  },
  {
   "cell_type": "code",
   "execution_count": null,
   "id": "0e4fd5c8",
   "metadata": {},
   "outputs": [],
   "source": []
  }
 ],
 "metadata": {
  "kernelspec": {
   "display_name": "Python 3",
   "language": "python",
   "name": "python3"
  },
  "language_info": {
   "codemirror_mode": {
    "name": "ipython",
    "version": 3
   },
   "file_extension": ".py",
   "mimetype": "text/x-python",
   "name": "python",
   "nbconvert_exporter": "python",
   "pygments_lexer": "ipython3",
   "version": "3.8.8"
  }
 },
 "nbformat": 4,
 "nbformat_minor": 5
}
