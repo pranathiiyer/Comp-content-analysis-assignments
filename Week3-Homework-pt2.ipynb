{
 "cells": [
  {
   "cell_type": "markdown",
   "metadata": {},
   "source": [
    "## Dynamic Topic Modeling Workflow\n",
    "\n",
    "For this part of the assignment, I use a module, DTM that was written by Prof Jon Clindaniel as part of a course on Computational Analysis of Social Processes that he taught last quarter. "
   ]
  },
  {
   "cell_type": "markdown",
   "metadata": {},
   "source": [
    "\n",
    "\n",
    "## <font color=\"red\">*Exercise 4*</font>\n",
    "\n",
    "<font color=\"red\">Construct cells immediately below this that use dynamic topic models on datasets relevant to your final project. You can also extend the analysis of the COHA or Soap datasets, if relevant to the comparison of data for your projects. (You could possibly use coha_genres dictionary to conduct analysis on topic evolution for a particular genre? What themes do you see evolving throughout these corpora?)"
   ]
  },
  {
   "cell_type": "markdown",
   "metadata": {},
   "source": [
    "<font color=\"green\"> The data I used for the other parts of the assignment belonged to only one year, and owing to challenges to split it month-wise, I use the COHA dataset for this part of the assignment. As a matter of surprise, using dynamic topic modelling it is visible that the top salient words in each of the three topics in 1855 and in the year 2000, actually did not change very much, despite creating time slices of 40 year intervals for the entire corpus i.e. 5 time slices. Moreover, "
   ]
  },
  {
   "cell_type": "code",
   "execution_count": 55,
   "metadata": {},
   "outputs": [
    {
     "name": "stderr",
     "output_type": "stream",
     "text": [
      "/Users/pranathiiyer/opt/anaconda3/lib/python3.8/site-packages/ipykernel/ipkernel.py:287: DeprecationWarning: `should_run_async` will not call `transform_cell` automatically in the future. Please pass the result to `transformed_cell` argument and any exception that happen during thetransform in `preprocessing_exc_tuple` in IPython 7.17 and above.\n",
      "  and should_run_async(code)\n"
     ]
    }
   ],
   "source": [
    "\n",
    "from gensim.models import LdaSeqModel\n",
    "from ipywidgets import interact\n",
    "import pyLDAvis\n",
    "import pandas as pd\n",
    "import dtm # custom module for today\n",
    "\n"
   ]
  },
  {
   "cell_type": "markdown",
   "metadata": {},
   "source": [
    "It take ***a really long time*** to fit DTMs, so for the sake of this exercise, let's only work with a random sample of the overall data (100 transcripts from 1822 and 100 transcripts from 1832):"
   ]
  },
  {
   "cell_type": "code",
   "execution_count": 6,
   "metadata": {},
   "outputs": [
    {
     "name": "stderr",
     "output_type": "stream",
     "text": [
      "/Users/pranathiiyer/opt/anaconda3/lib/python3.8/site-packages/ipykernel/ipkernel.py:287: DeprecationWarning: `should_run_async` will not call `transform_cell` automatically in the future. Please pass the result to `transformed_cell` argument and any exception that happen during thetransform in `preprocessing_exc_tuple` in IPython 7.17 and above.\n",
      "  and should_run_async(code)\n"
     ]
    }
   ],
   "source": [
    "import os\n",
    "import pandas as pd\n",
    "data = {'text':[],'year':[]}\n",
    "path = '/Users/pranathiiyer/Downloads/DTM/COHA'\n",
    "os.chdir(path)\n",
    "files = [f for f in os.listdir(path) if os.path.isfile(f)]\n",
    "\n",
    "for f in files:\n",
    "    with open (f, \"r\") as myfile:\n",
    "        data['text'].append(myfile.read())\n",
    "        data['year'].append(f.split('_')[1])\n",
    "\n",
    "df = pd.DataFrame(data)"
   ]
  },
  {
   "cell_type": "code",
   "execution_count": 7,
   "metadata": {},
   "outputs": [
    {
     "name": "stderr",
     "output_type": "stream",
     "text": [
      "/Users/pranathiiyer/opt/anaconda3/lib/python3.8/site-packages/ipykernel/ipkernel.py:287: DeprecationWarning: `should_run_async` will not call `transform_cell` automatically in the future. Please pass the result to `transformed_cell` argument and any exception that happen during thetransform in `preprocessing_exc_tuple` in IPython 7.17 and above.\n",
      "  and should_run_async(code)\n"
     ]
    }
   ],
   "source": [
    "df = df.set_index('year').sort_index()"
   ]
  },
  {
   "cell_type": "code",
   "execution_count": 21,
   "metadata": {},
   "outputs": [
    {
     "name": "stderr",
     "output_type": "stream",
     "text": [
      "/Users/pranathiiyer/opt/anaconda3/lib/python3.8/site-packages/ipykernel/ipkernel.py:287: DeprecationWarning: `should_run_async` will not call `transform_cell` automatically in the future. Please pass the result to `transformed_cell` argument and any exception that happen during thetransform in `preprocessing_exc_tuple` in IPython 7.17 and above.\n",
      "  and should_run_async(code)\n"
     ]
    },
    {
     "data": {
      "text/html": [
       "<div>\n",
       "<style scoped>\n",
       "    .dataframe tbody tr th:only-of-type {\n",
       "        vertical-align: middle;\n",
       "    }\n",
       "\n",
       "    .dataframe tbody tr th {\n",
       "        vertical-align: top;\n",
       "    }\n",
       "\n",
       "    .dataframe thead th {\n",
       "        text-align: right;\n",
       "    }\n",
       "</style>\n",
       "<table border=\"1\" class=\"dataframe\">\n",
       "  <thead>\n",
       "    <tr style=\"text-align: right;\">\n",
       "      <th></th>\n",
       "      <th>text</th>\n",
       "    </tr>\n",
       "    <tr>\n",
       "      <th>year</th>\n",
       "      <th></th>\n",
       "    </tr>\n",
       "  </thead>\n",
       "  <tbody>\n",
       "    <tr>\n",
       "      <th>1855</th>\n",
       "      <td>@@505250\\n\\nTHE DOG , DESCRIBED AND ILLUSTRATE...</td>\n",
       "    </tr>\n",
       "    <tr>\n",
       "      <th>1827</th>\n",
       "      <td>@@8950\\n\\nDramatis Person . Alexius , Emperour...</td>\n",
       "    </tr>\n",
       "    <tr>\n",
       "      <th>1831</th>\n",
       "      <td>@@563750\\n\\nI PROPOSE to give you a sketch of ...</td>\n",
       "    </tr>\n",
       "    <tr>\n",
       "      <th>1817</th>\n",
       "      <td>@@8550\\n\\nThe author is indebted to one of the...</td>\n",
       "    </tr>\n",
       "    <tr>\n",
       "      <th>1845</th>\n",
       "      <td>@@7450\\n\\nChivers , T. H. ( Thomas Holley ) , ...</td>\n",
       "    </tr>\n",
       "    <tr>\n",
       "      <th>...</th>\n",
       "      <td>...</td>\n",
       "    </tr>\n",
       "    <tr>\n",
       "      <th>1909</th>\n",
       "      <td>@@774350\\n\\n| The rates given in the table are...</td>\n",
       "    </tr>\n",
       "    <tr>\n",
       "      <th>1904</th>\n",
       "      <td>@@676650\\n\\nWilliam , the Anarchist , W111 ) w...</td>\n",
       "    </tr>\n",
       "    <tr>\n",
       "      <th>1910</th>\n",
       "      <td>@@2750\\n\\nIllustration : \" Then , how did you ...</td>\n",
       "    </tr>\n",
       "    <tr>\n",
       "      <th>1910</th>\n",
       "      <td>@@430450\\n\\n |p508  Intellectual Life in Japan...</td>\n",
       "    </tr>\n",
       "    <tr>\n",
       "      <th>1909</th>\n",
       "      <td>@@774350\\n\\n| The rates given in the table are...</td>\n",
       "    </tr>\n",
       "  </tbody>\n",
       "</table>\n",
       "<p>400 rows × 1 columns</p>\n",
       "</div>"
      ],
      "text/plain": [
       "                                                   text\n",
       "year                                                   \n",
       "1855  @@505250\\n\\nTHE DOG , DESCRIBED AND ILLUSTRATE...\n",
       "1827  @@8950\\n\\nDramatis Person . Alexius , Emperour...\n",
       "1831  @@563750\\n\\nI PROPOSE to give you a sketch of ...\n",
       "1817  @@8550\\n\\nThe author is indebted to one of the...\n",
       "1845  @@7450\\n\\nChivers , T. H. ( Thomas Holley ) , ...\n",
       "...                                                 ...\n",
       "1909  @@774350\\n\\n| The rates given in the table are...\n",
       "1904  @@676650\\n\\nWilliam , the Anarchist , W111 ) w...\n",
       "1910  @@2750\\n\\nIllustration : \" Then , how did you ...\n",
       "1910  @@430450\\n\\n |p508  Intellectual Life in Japan...\n",
       "1909  @@774350\\n\\n| The rates given in the table are...\n",
       "\n",
       "[400 rows x 1 columns]"
      ]
     },
     "execution_count": 21,
     "metadata": {},
     "output_type": "execute_result"
    }
   ],
   "source": [
    "sampled_data=[]\n",
    "final_data = pd.DataFrame()\n",
    "j = 0\n",
    "for i in range(4):\n",
    "  \n",
    "    sampled = df[j:j+40]\n",
    "    j = j+40\n",
    "    sampled_1 = sampled.sample(n=100, random_state=3, replace = True)\n",
    "    \n",
    "    final_data = final_data.append(sampled_1)\n",
    "    \n",
    "    \n",
    "    \n",
    "final_data"
   ]
  },
  {
   "cell_type": "code",
   "execution_count": 22,
   "metadata": {
    "scrolled": true
   },
   "outputs": [
    {
     "name": "stderr",
     "output_type": "stream",
     "text": [
      "/Users/pranathiiyer/opt/anaconda3/lib/python3.8/site-packages/ipykernel/ipkernel.py:287: DeprecationWarning: `should_run_async` will not call `transform_cell` automatically in the future. Please pass the result to `transformed_cell` argument and any exception that happen during thetransform in `preprocessing_exc_tuple` in IPython 7.17 and above.\n",
      "  and should_run_async(code)\n"
     ]
    },
    {
     "data": {
      "text/plain": [
       "year\n",
       "1855    [dog, describ, illustr, would, seem, benefic, ...\n",
       "1827    [dramati, person, alexius, emperour, greec, go...\n",
       "1831    [propos, give, sketch, cincinnati, inhabit, mu...\n",
       "1817    [author, indebt, one, novel, le, brun, groundw...\n",
       "1845    [chiver, h, thoma, holley, lost, pleiad, elegi...\n",
       "Name: text, dtype: object"
      ]
     },
     "execution_count": 22,
     "metadata": {},
     "output_type": "execute_result"
    }
   ],
   "source": [
    "stemmed_tokens = dtm.tokenize_ob(final_data['text'])\n",
    "\n",
    "stemmed_tokens.head()"
   ]
  },
  {
   "cell_type": "code",
   "execution_count": 43,
   "metadata": {},
   "outputs": [
    {
     "name": "stderr",
     "output_type": "stream",
     "text": [
      "/Users/pranathiiyer/opt/anaconda3/lib/python3.8/site-packages/ipykernel/ipkernel.py:287: DeprecationWarning: `should_run_async` will not call `transform_cell` automatically in the future. Please pass the result to `transformed_cell` argument and any exception that happen during thetransform in `preprocessing_exc_tuple` in IPython 7.17 and above.\n",
      "  and should_run_async(code)\n"
     ]
    }
   ],
   "source": [
    "dictionary, bow_corpus = dtm.prepare_data(stemmed_tokens)"
   ]
  },
  {
   "cell_type": "code",
   "execution_count": 31,
   "metadata": {},
   "outputs": [
    {
     "name": "stderr",
     "output_type": "stream",
     "text": [
      "/Users/pranathiiyer/opt/anaconda3/lib/python3.8/site-packages/ipykernel/ipkernel.py:287: DeprecationWarning: `should_run_async` will not call `transform_cell` automatically in the future. Please pass the result to `transformed_cell` argument and any exception that happen during thetransform in `preprocessing_exc_tuple` in IPython 7.17 and above.\n",
      "  and should_run_async(code)\n"
     ]
    }
   ],
   "source": [
    "from gensim.models import ldaseqmodel\n",
    "docs_per_time_slice = {0:100,1:100,2:100,3:100}"
   ]
  },
  {
   "cell_type": "code",
   "execution_count": 45,
   "metadata": {},
   "outputs": [
    {
     "name": "stderr",
     "output_type": "stream",
     "text": [
      "/Users/pranathiiyer/opt/anaconda3/lib/python3.8/site-packages/ipykernel/ipkernel.py:287: DeprecationWarning: `should_run_async` will not call `transform_cell` automatically in the future. Please pass the result to `transformed_cell` argument and any exception that happen during thetransform in `preprocessing_exc_tuple` in IPython 7.17 and above.\n",
      "  and should_run_async(code)\n",
      "/Users/pranathiiyer/opt/anaconda3/lib/python3.8/site-packages/gensim/models/ldaseqmodel.py:297: RuntimeWarning: divide by zero encountered in double_scalars\n",
      "  convergence = np.fabs((bound - old_bound) / old_bound)\n"
     ]
    }
   ],
   "source": [
    "\n",
    "#fit model\n",
    "ldaseq = LdaSeqModel(bow_corpus,\n",
    "                     [100,100,100,100],\n",
    "                     id2word=dictionary,\n",
    "                     num_topics=3)\n",
    "\n",
    "# optionally, save to/load from file:\n",
    "ldaseq.save('dtm.model')\n",
    "\n",
    "\n",
    "ldaseq = LdaSeqModel.load('dtm.model')"
   ]
  },
  {
   "cell_type": "code",
   "execution_count": 49,
   "metadata": {},
   "outputs": [
    {
     "name": "stdout",
     "output_type": "stream",
     "text": [
      "Coherence at Time Slice 0: -0.5351368168302376\n",
      "Coherence at Time Slice 1: -0.3627399560957067\n",
      "Average Coherence:  -0.4489383864629721\n",
      "##### Topic 0, Time Slice 0 #####\n",
      "['would', 'said', 'claudius', 'mr', 'barker', 'one', 'look', 'know', 'could', 'man']\n",
      "##### Topic 0, Time Slice 1 #####\n",
      "['would', 'said', 'mr', 'claudius', 'one', 'barker', 'go', 'look', 'could', 'like']\n",
      "\n",
      "\n",
      "##### Topic 1, Time Slice 0 #####\n",
      "['state', 'one', 'upon', 'may', 'would', 'power', 'time', 'great', 'peopl', 'made']\n",
      "##### Topic 1, Time Slice 1 #####\n",
      "['one', 'state', 'upon', 'great', 'work', 'would', 'time', 'power', 'may', 'made']\n",
      "\n",
      "\n",
      "##### Topic 2, Time Slice 0 #####\n",
      "['nt', 'one', 'said', 'would', 'go', 'could', 'like', 'know', 'us', 'see']\n",
      "##### Topic 2, Time Slice 1 #####\n",
      "['nt', 'one', 'said', 'go', 'would', 'could', 'know', 'like', 'us', 'see']\n",
      "\n",
      "\n"
     ]
    },
    {
     "name": "stderr",
     "output_type": "stream",
     "text": [
      "/Users/pranathiiyer/opt/anaconda3/lib/python3.8/site-packages/ipykernel/ipkernel.py:287: DeprecationWarning: `should_run_async` will not call `transform_cell` automatically in the future. Please pass the result to `transformed_cell` argument and any exception that happen during thetransform in `preprocessing_exc_tuple` in IPython 7.17 and above.\n",
      "  and should_run_async(code)\n"
     ]
    }
   ],
   "source": [
    "coherence = dtm.dtm_coherence([ldaseq],\n",
    "                              bow_corpus,\n",
    "                              dictionary,\n",
    "                              n_time_slices=len(time_slice))\n",
    "\n",
    "# Can check coherence for each model at each time slice\n",
    "for i, score in enumerate(coherence[0]):\n",
    "    print(\"Coherence at Time Slice {}:\".format(i), score)\n",
    "\n",
    "# As well as compute averages for overall comparison of models\n",
    "print(\"Average Coherence: \", \n",
    "      sum(coherence[0]) / len(coherence[0]))\n",
    "\n",
    "dtm.print_dtm(ldaseq, n_topics=3, n_time_slices=2)"
   ]
  },
  {
   "cell_type": "code",
   "execution_count": 51,
   "metadata": {},
   "outputs": [
    {
     "name": "stderr",
     "output_type": "stream",
     "text": [
      "/Users/pranathiiyer/opt/anaconda3/lib/python3.8/site-packages/ipykernel/ipkernel.py:287: DeprecationWarning: `should_run_async` will not call `transform_cell` automatically in the future. Please pass the result to `transformed_cell` argument and any exception that happen during thetransform in `preprocessing_exc_tuple` in IPython 7.17 and above.\n",
      "  and should_run_async(code)\n"
     ]
    },
    {
     "data": {
      "text/html": [
       "<div>\n",
       "<style scoped>\n",
       "    .dataframe tbody tr th:only-of-type {\n",
       "        vertical-align: middle;\n",
       "    }\n",
       "\n",
       "    .dataframe tbody tr th {\n",
       "        vertical-align: top;\n",
       "    }\n",
       "\n",
       "    .dataframe thead th {\n",
       "        text-align: right;\n",
       "    }\n",
       "</style>\n",
       "<table border=\"1\" class=\"dataframe\">\n",
       "  <thead>\n",
       "    <tr style=\"text-align: right;\">\n",
       "      <th></th>\n",
       "      <th>year</th>\n",
       "      <th>text</th>\n",
       "      <th>topic0</th>\n",
       "      <th>topic1</th>\n",
       "      <th>topic2</th>\n",
       "    </tr>\n",
       "  </thead>\n",
       "  <tbody>\n",
       "    <tr>\n",
       "      <th>0</th>\n",
       "      <td>1855</td>\n",
       "      <td>@@505250\\n\\nTHE DOG , DESCRIBED AND ILLUSTRATE...</td>\n",
       "      <td>0.186747</td>\n",
       "      <td>0.488586</td>\n",
       "      <td>0.324667</td>\n",
       "    </tr>\n",
       "    <tr>\n",
       "      <th>1</th>\n",
       "      <td>1827</td>\n",
       "      <td>@@8950\\n\\nDramatis Person . Alexius , Emperour...</td>\n",
       "      <td>0.048714</td>\n",
       "      <td>0.152985</td>\n",
       "      <td>0.798301</td>\n",
       "    </tr>\n",
       "    <tr>\n",
       "      <th>2</th>\n",
       "      <td>1831</td>\n",
       "      <td>@@563750\\n\\nI PROPOSE to give you a sketch of ...</td>\n",
       "      <td>0.282816</td>\n",
       "      <td>0.615312</td>\n",
       "      <td>0.101872</td>\n",
       "    </tr>\n",
       "    <tr>\n",
       "      <th>3</th>\n",
       "      <td>1817</td>\n",
       "      <td>@@8550\\n\\nThe author is indebted to one of the...</td>\n",
       "      <td>0.014574</td>\n",
       "      <td>0.026946</td>\n",
       "      <td>0.958480</td>\n",
       "    </tr>\n",
       "    <tr>\n",
       "      <th>4</th>\n",
       "      <td>1845</td>\n",
       "      <td>@@7450\\n\\nChivers , T. H. ( Thomas Holley ) , ...</td>\n",
       "      <td>0.001375</td>\n",
       "      <td>0.000901</td>\n",
       "      <td>0.997724</td>\n",
       "    </tr>\n",
       "  </tbody>\n",
       "</table>\n",
       "</div>"
      ],
      "text/plain": [
       "   year                                               text    topic0  \\\n",
       "0  1855  @@505250\\n\\nTHE DOG , DESCRIBED AND ILLUSTRATE...  0.186747   \n",
       "1  1827  @@8950\\n\\nDramatis Person . Alexius , Emperour...  0.048714   \n",
       "2  1831  @@563750\\n\\nI PROPOSE to give you a sketch of ...  0.282816   \n",
       "3  1817  @@8550\\n\\nThe author is indebted to one of the...  0.014574   \n",
       "4  1845  @@7450\\n\\nChivers , T. H. ( Thomas Holley ) , ...  0.001375   \n",
       "\n",
       "     topic1    topic2  \n",
       "0  0.488586  0.324667  \n",
       "1  0.152985  0.798301  \n",
       "2  0.615312  0.101872  \n",
       "3  0.026946  0.958480  \n",
       "4  0.000901  0.997724  "
      ]
     },
     "execution_count": 51,
     "metadata": {},
     "output_type": "execute_result"
    }
   ],
   "source": [
    "topic_weights = pd.DataFrame([ldaseq.doc_topics(j) for j in range(len(bow_corpus))],\n",
    "                             columns=['topic0', 'topic1', 'topic2'])\n",
    "df = final_data.reset_index() \\\n",
    "            .merge(topic_weights,\n",
    "                   left_index=True,\n",
    "                   right_index=True)\n",
    "df.head()"
   ]
  },
  {
   "cell_type": "code",
   "execution_count": 62,
   "metadata": {},
   "outputs": [
    {
     "name": "stderr",
     "output_type": "stream",
     "text": [
      "/Users/pranathiiyer/opt/anaconda3/lib/python3.8/site-packages/ipykernel/ipkernel.py:287: DeprecationWarning: `should_run_async` will not call `transform_cell` automatically in the future. Please pass the result to `transformed_cell` argument and any exception that happen during thetransform in `preprocessing_exc_tuple` in IPython 7.17 and above.\n",
      "  and should_run_async(code)\n"
     ]
    },
    {
     "data": {
      "application/vnd.jupyter.widget-view+json": {
       "model_id": "5d7fa98b5fcf46d99771837c0b01dfc3",
       "version_major": 2,
       "version_minor": 0
      },
      "text/plain": [
       "interactive(children=(Dropdown(description='Year', options=('1855', '2000'), value='1855'), Output()), _dom_cl…"
      ]
     },
     "metadata": {},
     "output_type": "display_data"
    }
   ],
   "source": [
    "pyLDAvis.enable_notebook()\n",
    "\n",
    "# Create pyLDAvis visualization for each year:\n",
    "vis = {}\n",
    "dates = ['1855','2000']\n",
    "for i in range(2):\n",
    "    doc_topic, topic_term, doc_lengths, term_frequency, vocab = ldaseq.dtm_vis(time=i, corpus=bow_corpus)\n",
    "    vis[dates[i]] = pyLDAvis.prepare(topic_term_dists=topic_term,\n",
    "                                            doc_topic_dists=doc_topic,\n",
    "                                            doc_lengths=doc_lengths,\n",
    "                                            vocab=vocab,\n",
    "                                            term_frequency=term_frequency)\n",
    "\n",
    "# Make an interactive plot so we can cycle through topics by year:\n",
    "@interact(Year=dates)\n",
    "def f(Year):\n",
    "    return vis[Year]"
   ]
  },
  {
   "cell_type": "code",
   "execution_count": null,
   "metadata": {},
   "outputs": [],
   "source": []
  }
 ],
 "metadata": {
  "@webio": {
   "lastCommId": null,
   "lastKernelId": null
  },
  "kernelspec": {
   "display_name": "Python 3",
   "language": "python",
   "name": "python3"
  },
  "language_info": {
   "codemirror_mode": {
    "name": "ipython",
    "version": 3
   },
   "file_extension": ".py",
   "mimetype": "text/x-python",
   "name": "python",
   "nbconvert_exporter": "python",
   "pygments_lexer": "ipython3",
   "version": "3.8.8"
  }
 },
 "nbformat": 4,
 "nbformat_minor": 4
}
